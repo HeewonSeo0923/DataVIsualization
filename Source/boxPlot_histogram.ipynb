{
 "nbformat": 4,
 "nbformat_minor": 0,
 "metadata": {
  "colab": {
   "provenance": []
  },
  "kernelspec": {
   "name": "python3",
   "display_name": "Python 3"
  },
  "language_info": {
   "name": "python"
  }
 },
 "cells": [
  {
   "cell_type": "code",
   "execution_count": 1,
   "metadata": {
    "id": "Sqf4nj0G-0jh",
    "pycharm": {
     "name": "#%%\n"
    }
   },
   "outputs": [],
   "source": [
    "import numpy as np\n",
    "import pandas as pd\n",
    "import matplotlib\n",
    "import matplotlib.pyplot as plt"
   ]
  },
  {
   "cell_type": "code",
   "execution_count": 2,
   "outputs": [],
   "source": [
    "filename = 'tips.csv'\n",
    "\n",
    "myframe = pd.read_csv(filename, encoding='utf-8', index_col=0)"
   ],
   "metadata": {
    "collapsed": false,
    "pycharm": {
     "name": "#%%\n"
    }
   }
  },
  {
   "cell_type": "code",
   "execution_count": 6,
   "outputs": [
    {
     "data": {
      "text/plain": "     total_bill   tip     sex smoker   day    time  size\n0         16.99  1.01  Female     No   Sun  Dinner     2\n1         10.34  1.66    Male     No   Sun  Dinner     3\n2         21.01  3.50    Male     No   Sun  Dinner     3\n3         23.68  3.31    Male     No   Sun  Dinner     2\n4         24.59  3.61  Female     No   Sun  Dinner     4\n..          ...   ...     ...    ...   ...     ...   ...\n239       29.03  5.92    Male     No   Sat  Dinner     3\n240       27.18  2.00  Female    Yes   Sat  Dinner     2\n241       22.67  2.00    Male    Yes   Sat  Dinner     2\n242       17.82  1.75    Male     No   Sat  Dinner     2\n243       18.78  3.00  Female     No  Thur  Dinner     2\n\n[244 rows x 7 columns]",
      "text/html": "<div>\n<style scoped>\n    .dataframe tbody tr th:only-of-type {\n        vertical-align: middle;\n    }\n\n    .dataframe tbody tr th {\n        vertical-align: top;\n    }\n\n    .dataframe thead th {\n        text-align: right;\n    }\n</style>\n<table border=\"1\" class=\"dataframe\">\n  <thead>\n    <tr style=\"text-align: right;\">\n      <th></th>\n      <th>total_bill</th>\n      <th>tip</th>\n      <th>sex</th>\n      <th>smoker</th>\n      <th>day</th>\n      <th>time</th>\n      <th>size</th>\n    </tr>\n  </thead>\n  <tbody>\n    <tr>\n      <th>0</th>\n      <td>16.99</td>\n      <td>1.01</td>\n      <td>Female</td>\n      <td>No</td>\n      <td>Sun</td>\n      <td>Dinner</td>\n      <td>2</td>\n    </tr>\n    <tr>\n      <th>1</th>\n      <td>10.34</td>\n      <td>1.66</td>\n      <td>Male</td>\n      <td>No</td>\n      <td>Sun</td>\n      <td>Dinner</td>\n      <td>3</td>\n    </tr>\n    <tr>\n      <th>2</th>\n      <td>21.01</td>\n      <td>3.50</td>\n      <td>Male</td>\n      <td>No</td>\n      <td>Sun</td>\n      <td>Dinner</td>\n      <td>3</td>\n    </tr>\n    <tr>\n      <th>3</th>\n      <td>23.68</td>\n      <td>3.31</td>\n      <td>Male</td>\n      <td>No</td>\n      <td>Sun</td>\n      <td>Dinner</td>\n      <td>2</td>\n    </tr>\n    <tr>\n      <th>4</th>\n      <td>24.59</td>\n      <td>3.61</td>\n      <td>Female</td>\n      <td>No</td>\n      <td>Sun</td>\n      <td>Dinner</td>\n      <td>4</td>\n    </tr>\n    <tr>\n      <th>...</th>\n      <td>...</td>\n      <td>...</td>\n      <td>...</td>\n      <td>...</td>\n      <td>...</td>\n      <td>...</td>\n      <td>...</td>\n    </tr>\n    <tr>\n      <th>239</th>\n      <td>29.03</td>\n      <td>5.92</td>\n      <td>Male</td>\n      <td>No</td>\n      <td>Sat</td>\n      <td>Dinner</td>\n      <td>3</td>\n    </tr>\n    <tr>\n      <th>240</th>\n      <td>27.18</td>\n      <td>2.00</td>\n      <td>Female</td>\n      <td>Yes</td>\n      <td>Sat</td>\n      <td>Dinner</td>\n      <td>2</td>\n    </tr>\n    <tr>\n      <th>241</th>\n      <td>22.67</td>\n      <td>2.00</td>\n      <td>Male</td>\n      <td>Yes</td>\n      <td>Sat</td>\n      <td>Dinner</td>\n      <td>2</td>\n    </tr>\n    <tr>\n      <th>242</th>\n      <td>17.82</td>\n      <td>1.75</td>\n      <td>Male</td>\n      <td>No</td>\n      <td>Sat</td>\n      <td>Dinner</td>\n      <td>2</td>\n    </tr>\n    <tr>\n      <th>243</th>\n      <td>18.78</td>\n      <td>3.00</td>\n      <td>Female</td>\n      <td>No</td>\n      <td>Thur</td>\n      <td>Dinner</td>\n      <td>2</td>\n    </tr>\n  </tbody>\n</table>\n<p>244 rows × 7 columns</p>\n</div>"
     },
     "execution_count": 6,
     "metadata": {},
     "output_type": "execute_result"
    }
   ],
   "source": [
    "myframe"
   ],
   "metadata": {
    "collapsed": false,
    "pycharm": {
     "name": "#%%\n"
    }
   }
  },
  {
   "cell_type": "code",
   "source": [
    "\n",
    "DINNER, LUNCH = 'Dinner', 'Lunch'\n",
    "\n",
    "frame01 = myframe.loc[myframe['time'] == DINNER, 'total_bill']\n",
    "frame01.index.name = DINNER\n",
    "\n",
    "frame02 = myframe.loc[myframe['time'] == LUNCH, 'total_bill']\n",
    "frame02.index.name = LUNCH"
   ],
   "metadata": {
    "id": "JQuiuiTJAIbw",
    "pycharm": {
     "name": "#%%\n"
    }
   },
   "execution_count": 7,
   "outputs": []
  },
  {
   "cell_type": "code",
   "source": [
    "chartdata = [np.array(frame01), np.array(frame02)]\n",
    "print('chartdata')\n",
    "print(chartdata)"
   ],
   "metadata": {
    "colab": {
     "base_uri": "https://localhost:8080/"
    },
    "id": "NkwKEuZEAUiG",
    "outputId": "77079597-b3b4-4129-b27b-736a88ade272",
    "pycharm": {
     "name": "#%%\n"
    }
   },
   "execution_count": 8,
   "outputs": [
    {
     "name": "stdout",
     "output_type": "stream",
     "text": [
      "chartdata\n",
      "[array([16.99, 10.34, 21.01, 23.68, 24.59, 25.29,  8.77, 26.88, 15.04,\n",
      "       14.78, 10.27, 35.26, 15.42, 18.43, 14.83, 21.58, 10.33, 16.29,\n",
      "       16.97, 20.65, 17.92, 20.29, 15.77, 39.42, 19.82, 17.81, 13.37,\n",
      "       12.69, 21.7 , 19.65,  9.55, 18.35, 15.06, 20.69, 17.78, 24.06,\n",
      "       16.31, 16.93, 18.69, 31.27, 16.04, 17.46, 13.94,  9.68, 30.4 ,\n",
      "       18.29, 22.23, 32.4 , 28.55, 18.04, 12.54, 10.29, 34.81,  9.94,\n",
      "       25.56, 19.49, 38.01, 26.41, 11.24, 48.27, 20.29, 13.81, 11.02,\n",
      "       18.29, 17.59, 20.08, 16.45,  3.07, 20.23, 15.01, 12.02, 17.07,\n",
      "       26.86, 25.28, 14.73, 10.51, 17.92, 28.97, 22.49,  5.75, 16.32,\n",
      "       22.75, 40.17, 27.28, 12.03, 21.01, 12.46, 11.35, 15.38, 44.3 ,\n",
      "       22.42, 20.92, 15.36, 20.49, 25.21, 18.24, 14.31, 14.  ,  7.25,\n",
      "       38.07, 23.95, 25.71, 17.31, 29.93, 14.07, 13.13, 17.26, 24.55,\n",
      "       19.77, 29.85, 48.17, 25.  , 13.39, 16.49, 21.5 , 12.66, 16.21,\n",
      "       13.81, 17.51, 24.52, 20.76, 31.71, 10.59, 10.63, 50.81, 15.81,\n",
      "        7.25, 31.85, 16.82, 32.9 , 17.89, 14.48,  9.6 , 34.63, 34.65,\n",
      "       23.33, 45.35, 23.17, 40.55, 20.69, 20.9 , 30.46, 18.15, 23.1 ,\n",
      "       15.69, 26.59, 38.73, 24.27, 12.76, 30.06, 25.89, 48.33, 13.27,\n",
      "       28.17, 12.9 , 28.15, 11.59,  7.74, 30.14, 20.45, 13.28, 22.12,\n",
      "       24.01, 15.69, 11.61, 10.77, 15.53, 10.07, 12.6 , 32.83, 35.83,\n",
      "       29.03, 27.18, 22.67, 17.82, 18.78]), array([27.2 , 22.76, 17.29, 19.44, 16.66, 10.07, 32.68, 15.98, 34.83,\n",
      "       13.03, 18.28, 24.71, 21.16, 10.65, 12.43, 24.08, 11.69, 13.42,\n",
      "       14.26, 15.95, 12.48, 29.8 ,  8.52, 14.52, 11.38, 22.82, 19.08,\n",
      "       20.27, 11.17, 12.26, 18.26,  8.51, 10.33, 14.15, 16.  , 13.16,\n",
      "       17.47, 34.3 , 41.19, 27.05, 16.43,  8.35, 18.64, 11.87,  9.78,\n",
      "        7.51, 19.81, 28.44, 15.48, 16.58,  7.56, 10.34, 43.11, 13.  ,\n",
      "       13.51, 18.71, 12.74, 13.  , 16.4 , 20.53, 16.47, 12.16, 13.42,\n",
      "        8.58, 15.98, 13.42, 16.27, 10.09])]\n"
     ]
    }
   ]
  },
  {
   "cell_type": "code",
   "source": [
    "plt.rc('font', family='AppleGothic')"
   ],
   "metadata": {
    "id": "lvgE1lrZCMKm",
    "pycharm": {
     "name": "#%%\n"
    }
   },
   "execution_count": 9,
   "outputs": []
  },
  {
   "cell_type": "code",
   "source": [
    "xtick_label = [DINNER, LUNCH] # x 축을 위한 레이블\n",
    "\n",
    "fig, (ax1, ax2) = plt.subplots(nrows=1, ncols=2, figsize=(9, 4))\n",
    "\n",
    "# rectangular box plot\n",
    "bplot1 = ax1.boxplot(chartdata,\n",
    "                     vert=True,  # vertical box alignment\n",
    "                     patch_artist=True,  # fill with color\n",
    "                     labels=xtick_label)  # will be used to label x-ticks\n",
    "ax1.set_title('Rectangular box plot')\n",
    "\n",
    "# notch shape box plot\n",
    "bplot2 = ax2.boxplot(chartdata,\n",
    "                     notch=True,  # notch shape\n",
    "                     vert=True,  # vertical box alignment\n",
    "                     patch_artist=True,  # fill with color\n",
    "                     labels=xtick_label)  # will be used to label x-ticks\n",
    "ax2.set_title('Notched box plot')\n",
    "\n",
    "colors = ['pink', 'lightblue'] # fill with colors\n",
    "for bplot in (bplot1, bplot2):\n",
    "    for patch, color in zip(bplot['boxes'], colors):\n",
    "        patch.set_facecolor(color)\n",
    "\n",
    "# adding horizontal grid lines\n",
    "for ax in [ax1, ax2]:\n",
    "    ax.yaxis.grid(True)\n",
    "    ax.set_xlabel('Total Bills for dinner and lunch')\n",
    "    ax.set_ylabel('observed data')\n",
    "\n",
    "cnt, PNG, UNDERBAR = 0, '.png', '_'\n",
    "CHART_NAME = 'boxPlotExam'\n",
    "\n",
    "cnt += 1\n",
    "savefile = CHART_NAME + UNDERBAR + str(cnt).zfill(2) + PNG\n",
    "plt.savefig(savefile, dpi=400)\n",
    "print(savefile + ' 파일이 저장되었습니다.')\n",
    "\n",
    "print('finished')"
   ],
   "metadata": {
    "colab": {
     "base_uri": "https://localhost:8080/",
     "height": 366
    },
    "id": "76EjTMYPAa0t",
    "outputId": "4c28225c-5a8d-44a9-918c-2260cba26381",
    "pycharm": {
     "name": "#%%\n"
    }
   },
   "execution_count": 10,
   "outputs": [
    {
     "name": "stdout",
     "output_type": "stream",
     "text": [
      "boxPlotExam_01.png 파일이 저장되었습니다.\n",
      "finished\n"
     ]
    },
    {
     "data": {
      "text/plain": "<Figure size 648x288 with 2 Axes>",
      "image/png": "[encoded data removed]"
     },
     "metadata": {},
     "output_type": "display_data"
    }
   ]
  },
  {
   "cell_type": "code",
   "source": [
    "CHART_NAME = 'histogramExam'\n",
    "filename = 'tips.csv'\n",
    "num_bins = 30"
   ],
   "metadata": {
    "id": "Mi_OCYOzDvi4",
    "pycharm": {
     "name": "#%%\n"
    }
   },
   "execution_count": 7,
   "outputs": []
  },
  {
   "cell_type": "code",
   "source": [
    "tips = pd.read_csv(filename, encoding='utf-8')\n",
    "\n",
    "fig, ax = plt.subplots()\n",
    "\n",
    "x = tips['total_bill'] # Series\n",
    "print(type(x))\n",
    "\n",
    "n, bins, patches = ax.hist(x, num_bins, density=True)\n",
    "\n",
    "ax.set_title('Histogram of Total Bill')\n",
    "ax.set_xlabel('Frequency')\n",
    "ax.set_ylabel('Total Bill')\n",
    "\n",
    "import numpy as np\n",
    "\n",
    "mu = x.mean()  # 평균\n",
    "print('mu :', mu)\n",
    "\n",
    "sigma = x.std() # 표준 편차\n",
    "print('sigma :', sigma)\n",
    "\n",
    "y = ((1 / (np.sqrt(2 * np.pi) * sigma)) *\n",
    "     np.exp(-0.5 * (1 / sigma * (bins - mu))**2))\n",
    "ax.plot(bins, y, '--')\n",
    "\n",
    "# Tweak spacing to prevent clipping of ylabel\n",
    "fig.tight_layout()\n",
    "\n",
    "cnt += 1\n",
    "savefile = CHART_NAME + UNDERBAR + str(cnt).zfill(2) + PNG\n",
    "plt.savefig(savefile, dpi=400)\n",
    "print(savefile + ' 파일이 저장되었습니다.')"
   ],
   "metadata": {
    "colab": {
     "base_uri": "https://localhost:8080/",
     "height": 368
    },
    "id": "E-QyvBDWBTdO",
    "outputId": "9fd1e63e-dc5a-433a-b204-1d344f8a4fad",
    "pycharm": {
     "name": "#%%\n"
    }
   },
   "execution_count": 8,
   "outputs": [
    {
     "name": "stdout",
     "output_type": "stream",
     "text": [
      "<class 'pandas.core.series.Series'>\n",
      "mu : 19.785942622950824\n",
      "sigma : 8.902411954856856\n",
      "histogramExam_02.png 파일이 저장되었습니다.\n"
     ]
    },
    {
     "data": {
      "text/plain": "<Figure size 432x288 with 1 Axes>",
      "image/png": "[encoded data removed]"
     },
     "metadata": {
      "needs_background": "light"
     },
     "output_type": "display_data"
    }
   ]
  },
  {
   "cell_type": "code",
   "source": [
    "# 만약 최소값/최대값을 바꾸거나 계급 구간의 개수를 늘리고 싶다면 range와 bins를 통해 직접 설정할 수 있다.\n",
    "fig, ax = plt.subplots()\n",
    "plt.hist(x, range=(5, 40), bins=num_bins)\n",
    "\n",
    "cnt += 1\n",
    "savefile = CHART_NAME + UNDERBAR + str(cnt).zfill(2) + PNG\n",
    "plt.savefig(savefile, dpi=400)\n",
    "print(savefile + ' 파일이 저장되었습니다.')"
   ],
   "metadata": {
    "colab": {
     "base_uri": "https://localhost:8080/",
     "height": 283
    },
    "id": "GwkpJGklEKb_",
    "outputId": "5c107698-aed8-4a34-84f0-6f548cad37c1",
    "pycharm": {
     "name": "#%%\n"
    }
   },
   "execution_count": 9,
   "outputs": [
    {
     "name": "stdout",
     "output_type": "stream",
     "text": [
      "histogramExam_03.png 파일이 저장되었습니다.\n"
     ]
    },
    {
     "data": {
      "text/plain": "<Figure size 432x288 with 1 Axes>",
      "image/png": "[encoded data removed]"
     },
     "metadata": {
      "needs_background": "light"
     },
     "output_type": "display_data"
    }
   ]
  }
 ]
}