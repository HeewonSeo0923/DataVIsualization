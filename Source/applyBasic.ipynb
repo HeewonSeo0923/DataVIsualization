{
 "cells": [
  {
   "cell_type": "code",
   "execution_count": 1,
   "metadata": {
    "id": "2i6T7eqyiP7f",
    "executionInfo": {
     "status": "ok",
     "timestamp": 1679570024417,
     "user_tz": -540,
     "elapsed": 397,
     "user": {
      "displayName": "Heewon Seo",
      "userId": "07799207574766651112"
     }
    }
   },
   "outputs": [],
   "source": [
    "import pandas as pd"
   ]
  },
  {
   "cell_type": "code",
   "source": [
    "from google.colab import drive\n",
    "drive.mount('/content/gdrive')"
   ],
   "metadata": {
    "colab": {
     "base_uri": "https://localhost:8080/"
    },
    "id": "cAEcFyewikjD",
    "executionInfo": {
     "status": "ok",
     "timestamp": 1679570080216,
     "user_tz": -540,
     "elapsed": 55804,
     "user": {
      "displayName": "Heewon Seo",
      "userId": "07799207574766651112"
     }
    },
    "outputId": "9d656798-9fa7-4e29-f7ed-ad57c9e7e264",
    "pycharm": {
     "is_executing": true
    }
   },
   "execution_count": null,
   "outputs": []
  },
  {
   "cell_type": "code",
   "execution_count": 3,
   "metadata": {
    "colab": {
     "base_uri": "https://localhost:8080/",
     "height": 175
    },
    "id": "H0wj9dE_iP7i",
    "executionInfo": {
     "status": "ok",
     "timestamp": 1679570115884,
     "user_tz": -540,
     "elapsed": 432,
     "user": {
      "displayName": "Heewon Seo",
      "userId": "07799207574766651112"
     }
    },
    "outputId": "6e77d432-ddb9-4089-d45c-b10a2ae8975d"
   },
   "outputs": [
    {
     "output_type": "execute_result",
     "data": {
      "text/plain": [
       "     kor  eng\n",
       "id           \n",
       "김철수   60   70\n",
       "홍길동   70   75\n",
       "박영희   80   80"
      ],
      "text/html": [
       "\n",
       "  <div id=\"df-445adea0-ea4e-4716-bb33-bb77ea6d1fa6\">\n",
       "    <div class=\"colab-df-container\">\n",
       "      <div>\n",
       "<style scoped>\n",
       "    .dataframe tbody tr th:only-of-type {\n",
       "        vertical-align: middle;\n",
       "    }\n",
       "\n",
       "    .dataframe tbody tr th {\n",
       "        vertical-align: top;\n",
       "    }\n",
       "\n",
       "    .dataframe thead th {\n",
       "        text-align: right;\n",
       "    }\n",
       "</style>\n",
       "<table border=\"1\" class=\"dataframe\">\n",
       "  <thead>\n",
       "    <tr style=\"text-align: right;\">\n",
       "      <th></th>\n",
       "      <th>kor</th>\n",
       "      <th>eng</th>\n",
       "    </tr>\n",
       "    <tr>\n",
       "      <th>id</th>\n",
       "      <th></th>\n",
       "      <th></th>\n",
       "    </tr>\n",
       "  </thead>\n",
       "  <tbody>\n",
       "    <tr>\n",
       "      <th>김철수</th>\n",
       "      <td>60</td>\n",
       "      <td>70</td>\n",
       "    </tr>\n",
       "    <tr>\n",
       "      <th>홍길동</th>\n",
       "      <td>70</td>\n",
       "      <td>75</td>\n",
       "    </tr>\n",
       "    <tr>\n",
       "      <th>박영희</th>\n",
       "      <td>80</td>\n",
       "      <td>80</td>\n",
       "    </tr>\n",
       "  </tbody>\n",
       "</table>\n",
       "</div>\n",
       "      <button class=\"colab-df-convert\" onclick=\"convertToInteractive('df-445adea0-ea4e-4716-bb33-bb77ea6d1fa6')\"\n",
       "              title=\"Convert this dataframe to an interactive table.\"\n",
       "              style=\"display:none;\">\n",
       "        \n",
       "  <svg xmlns=\"http://www.w3.org/2000/svg\" height=\"24px\"viewBox=\"0 0 24 24\"\n",
       "       width=\"24px\">\n",
       "    <path d=\"M0 0h24v24H0V0z\" fill=\"none\"/>\n",
       "    <path d=\"M18.56 5.44l.94 2.06.94-2.06 2.06-.94-2.06-.94-.94-2.06-.94 2.06-2.06.94zm-11 1L8.5 8.5l.94-2.06 2.06-.94-2.06-.94L8.5 2.5l-.94 2.06-2.06.94zm10 10l.94 2.06.94-2.06 2.06-.94-2.06-.94-.94-2.06-.94 2.06-2.06.94z\"/><path d=\"M17.41 7.96l-1.37-1.37c-.4-.4-.92-.59-1.43-.59-.52 0-1.04.2-1.43.59L10.3 9.45l-7.72 7.72c-.78.78-.78 2.05 0 2.83L4 21.41c.39.39.9.59 1.41.59.51 0 1.02-.2 1.41-.59l7.78-7.78 2.81-2.81c.8-.78.8-2.07 0-2.86zM5.41 20L4 18.59l7.72-7.72 1.47 1.35L5.41 20z\"/>\n",
       "  </svg>\n",
       "      </button>\n",
       "      \n",
       "  <style>\n",
       "    .colab-df-container {\n",
       "      display:flex;\n",
       "      flex-wrap:wrap;\n",
       "      gap: 12px;\n",
       "    }\n",
       "\n",
       "    .colab-df-convert {\n",
       "      background-color: #E8F0FE;\n",
       "      border: none;\n",
       "      border-radius: 50%;\n",
       "      cursor: pointer;\n",
       "      display: none;\n",
       "      fill: #1967D2;\n",
       "      height: 32px;\n",
       "      padding: 0 0 0 0;\n",
       "      width: 32px;\n",
       "    }\n",
       "\n",
       "    .colab-df-convert:hover {\n",
       "      background-color: #E2EBFA;\n",
       "      box-shadow: 0px 1px 2px rgba(60, 64, 67, 0.3), 0px 1px 3px 1px rgba(60, 64, 67, 0.15);\n",
       "      fill: #174EA6;\n",
       "    }\n",
       "\n",
       "    [theme=dark] .colab-df-convert {\n",
       "      background-color: #3B4455;\n",
       "      fill: #D2E3FC;\n",
       "    }\n",
       "\n",
       "    [theme=dark] .colab-df-convert:hover {\n",
       "      background-color: #434B5C;\n",
       "      box-shadow: 0px 1px 3px 1px rgba(0, 0, 0, 0.15);\n",
       "      filter: drop-shadow(0px 1px 2px rgba(0, 0, 0, 0.3));\n",
       "      fill: #FFFFFF;\n",
       "    }\n",
       "  </style>\n",
       "\n",
       "      <script>\n",
       "        const buttonEl =\n",
       "          document.querySelector('#df-445adea0-ea4e-4716-bb33-bb77ea6d1fa6 button.colab-df-convert');\n",
       "        buttonEl.style.display =\n",
       "          google.colab.kernel.accessAllowed ? 'block' : 'none';\n",
       "\n",
       "        async function convertToInteractive(key) {\n",
       "          const element = document.querySelector('#df-445adea0-ea4e-4716-bb33-bb77ea6d1fa6');\n",
       "          const dataTable =\n",
       "            await google.colab.kernel.invokeFunction('convertToInteractive',\n",
       "                                                     [key], {});\n",
       "          if (!dataTable) return;\n",
       "\n",
       "          const docLinkHtml = 'Like what you see? Visit the ' +\n",
       "            '<a target=\"_blank\" href=https://colab.research.google.com/notebooks/data_table.ipynb>data table notebook</a>'\n",
       "            + ' to learn more about interactive tables.';\n",
       "          element.innerHTML = '';\n",
       "          dataTable['output_type'] = 'display_data';\n",
       "          await google.colab.output.renderOutput(dataTable, element);\n",
       "          const docLink = document.createElement('div');\n",
       "          docLink.innerHTML = docLinkHtml;\n",
       "          element.appendChild(docLink);\n",
       "        }\n",
       "      </script>\n",
       "    </div>\n",
       "  </div>\n",
       "  "
      ]
     },
     "metadata": {},
     "execution_count": 3
    }
   ],
   "source": [
    "filename = '/content/gdrive/MyDrive/학교/학교 수업/3-1/데이터시각화/data/memberInfo.csv'\n",
    "df = pd.read_csv(filename, index_col='id')\n",
    "df"
   ]
  },
  {
   "cell_type": "code",
   "execution_count": 4,
   "metadata": {
    "colab": {
     "base_uri": "https://localhost:8080/"
    },
    "id": "KJADdJsBiP7k",
    "executionInfo": {
     "status": "ok",
     "timestamp": 1679570122134,
     "user_tz": -540,
     "elapsed": 1371,
     "user": {
      "displayName": "Heewon Seo",
      "userId": "07799207574766651112"
     }
    },
    "outputId": "ae2b3c61-e7a5-4567-d571-8c910ad2cfb9"
   },
   "outputs": [
    {
     "output_type": "stream",
     "name": "stdout",
     "text": [
      "일반적인 산술 연산\n"
     ]
    },
    {
     "output_type": "execute_result",
     "data": {
      "text/plain": [
       "id\n",
       "김철수    65\n",
       "홍길동    75\n",
       "박영희    85\n",
       "Name: kor, dtype: int64"
      ]
     },
     "metadata": {},
     "execution_count": 4
    }
   ],
   "source": [
    "print( '일반적인 산술 연산' )\n",
    "df['kor'] + 5"
   ]
  },
  {
   "cell_type": "code",
   "execution_count": 5,
   "metadata": {
    "id": "1EZ1FRUIiP7k",
    "executionInfo": {
     "status": "ok",
     "timestamp": 1679570124296,
     "user_tz": -540,
     "elapsed": 3,
     "user": {
      "displayName": "Heewon Seo",
      "userId": "07799207574766651112"
     }
    }
   },
   "outputs": [],
   "source": [
    "def plus5(x):\n",
    "    return x + 5"
   ]
  },
  {
   "cell_type": "code",
   "execution_count": 6,
   "metadata": {
    "colab": {
     "base_uri": "https://localhost:8080/"
    },
    "id": "npfjgd5UiP7l",
    "executionInfo": {
     "status": "ok",
     "timestamp": 1679570125510,
     "user_tz": -540,
     "elapsed": 4,
     "user": {
      "displayName": "Heewon Seo",
      "userId": "07799207574766651112"
     }
    },
    "outputId": "e5c541bb-afbd-46d1-d043-a1f57036cb1e"
   },
   "outputs": [
    {
     "output_type": "stream",
     "name": "stdout",
     "text": [
      "apply 함수를 적용한 결과\n"
     ]
    },
    {
     "output_type": "execute_result",
     "data": {
      "text/plain": [
       "id\n",
       "김철수    65\n",
       "홍길동    75\n",
       "박영희    85\n",
       "Name: kor, dtype: int64"
      ]
     },
     "metadata": {},
     "execution_count": 6
    }
   ],
   "source": [
    "print('apply 함수를 적용한 결과')\n",
    "sq = df['kor'].apply(plus5) \n",
    "sq"
   ]
  },
  {
   "cell_type": "code",
   "execution_count": 7,
   "metadata": {
    "id": "0hZUo8f-iP7l",
    "executionInfo": {
     "status": "ok",
     "timestamp": 1679570141067,
     "user_tz": -540,
     "elapsed": 1490,
     "user": {
      "displayName": "Heewon Seo",
      "userId": "07799207574766651112"
     }
    }
   },
   "outputs": [],
   "source": [
    "def gob(x, n):\n",
    "    return n * x"
   ]
  },
  {
   "cell_type": "code",
   "execution_count": 8,
   "metadata": {
    "id": "c2RhOrGsiP7m",
    "outputId": "a5d4bc65-e054-4224-85c3-bb17e2dcd83c",
    "colab": {
     "base_uri": "https://localhost:8080/"
    },
    "executionInfo": {
     "status": "ok",
     "timestamp": 1679570142480,
     "user_tz": -540,
     "elapsed": 4,
     "user": {
      "displayName": "Heewon Seo",
      "userId": "07799207574766651112"
     }
    }
   },
   "outputs": [
    {
     "output_type": "execute_result",
     "data": {
      "text/plain": [
       "id\n",
       "김철수    180\n",
       "홍길동    210\n",
       "박영희    240\n",
       "Name: kor, dtype: int64"
      ]
     },
     "metadata": {},
     "execution_count": 8
    }
   ],
   "source": [
    "ex = df['kor'].apply(gob, n=3) \n",
    "ex"
   ]
  },
  {
   "cell_type": "code",
   "execution_count": 9,
   "metadata": {
    "id": "0V2KTnrBiP7m",
    "executionInfo": {
     "status": "ok",
     "timestamp": 1679570150593,
     "user_tz": -540,
     "elapsed": 510,
     "user": {
      "displayName": "Heewon Seo",
      "userId": "07799207574766651112"
     }
    }
   },
   "outputs": [],
   "source": [
    "def applyByColumn(col):\n",
    "    mysum = 0\n",
    "    for item in col:\n",
    "        mysum += item\n",
    "    return mysum / df.shape[0]"
   ]
  },
  {
   "cell_type": "code",
   "execution_count": 10,
   "metadata": {
    "colab": {
     "base_uri": "https://localhost:8080/"
    },
    "id": "AXv1UHgLiP7n",
    "executionInfo": {
     "status": "ok",
     "timestamp": 1679570156353,
     "user_tz": -540,
     "elapsed": 334,
     "user": {
      "displayName": "Heewon Seo",
      "userId": "07799207574766651112"
     }
    },
    "outputId": "58d35ab5-58f8-433e-fdd8-56ece4011b08"
   },
   "outputs": [
    {
     "output_type": "execute_result",
     "data": {
      "text/plain": [
       "kor    70.0\n",
       "eng    75.0\n",
       "dtype: float64"
      ]
     },
     "metadata": {},
     "execution_count": 10
    }
   ],
   "source": [
    "df.apply(applyByColumn, axis = 0)"
   ]
  },
  {
   "cell_type": "code",
   "execution_count": 11,
   "metadata": {
    "id": "6k8be5BUiP7n",
    "executionInfo": {
     "status": "ok",
     "timestamp": 1679570156689,
     "user_tz": -540,
     "elapsed": 1,
     "user": {
      "displayName": "Heewon Seo",
      "userId": "07799207574766651112"
     }
    }
   },
   "outputs": [],
   "source": [
    "def applyByRow(row):\n",
    "    mysum = 0\n",
    "    for item in row:\n",
    "        mysum += item\n",
    "    return mysum / df.shape[1] "
   ]
  },
  {
   "cell_type": "code",
   "execution_count": 12,
   "metadata": {
    "colab": {
     "base_uri": "https://localhost:8080/"
    },
    "id": "h0HqBGfwiP7n",
    "executionInfo": {
     "status": "ok",
     "timestamp": 1679570158330,
     "user_tz": -540,
     "elapsed": 4,
     "user": {
      "displayName": "Heewon Seo",
      "userId": "07799207574766651112"
     }
    },
    "outputId": "b52fa1ec-8752-4859-bdd4-db86a6f62b04"
   },
   "outputs": [
    {
     "output_type": "execute_result",
     "data": {
      "text/plain": [
       "id\n",
       "김철수    65.0\n",
       "홍길동    72.5\n",
       "박영희    80.0\n",
       "dtype: float64"
      ]
     },
     "metadata": {},
     "execution_count": 12
    }
   ],
   "source": [
    "df.apply(applyByRow, axis = 1)"
   ]
  },
  {
   "cell_type": "code",
   "execution_count": null,
   "metadata": {
    "id": "JDqT607LiP7n"
   },
   "outputs": [],
   "source": []
  }
 ],
 "metadata": {
  "anaconda-cloud": {},
  "kernelspec": {
   "display_name": "Python 3",
   "language": "python",
   "name": "python3"
  },
  "language_info": {
   "codemirror_mode": {
    "name": "ipython",
    "version": 3
   },
   "file_extension": ".py",
   "mimetype": "text/x-python",
   "name": "python",
   "nbconvert_exporter": "python",
   "pygments_lexer": "ipython3",
   "version": "3.8.5"
  },
  "colab": {
   "provenance": []
  }
 },
 "nbformat": 4,
 "nbformat_minor": 0
}
