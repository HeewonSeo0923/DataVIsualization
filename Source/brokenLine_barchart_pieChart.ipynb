{
 "cells": [
  {
   "cell_type": "code",
   "execution_count": 2,
   "metadata": {
    "id": "o0WPj_7Dc2L4",
    "pycharm": {
     "name": "#%%\n"
    }
   },
   "outputs": [],
   "source": [
    "import numpy as np\n",
    "import pandas as pd\n",
    "import matplotlib.pyplot as plt"
   ]
  },
  {
   "cell_type": "code",
   "execution_count": 3,
   "outputs": [
    {
     "name": "stdout",
     "output_type": "stream",
     "text": [
      "       4월06일   4월07일   4월08일   4월09일   4월10일   4월11일   4월12일\n",
      "국가                                                          \n",
      "미국    335524  364723  387547  424945  461437  495535  524903\n",
      "스페인   130709  135032  140510  146690  152446  157022  161852\n",
      "이탈리아  128948  132547  135586  139422  143626  147577  152271\n",
      "독일    100024  102453  107591  112113  118181  122171  124908\n",
      "프랑스    70478   74390   78167   82048   86334   90276   93790\n",
      "중국     81708   81740   81802   81865   81907   81953   82052\n",
      "영국     47806   51608   55242   60733   65077   73758   78991\n",
      "이란     58226   60500   62589   64586   66220   68192   70029\n",
      "스위스    21104   21652   22241   22789   23574   24308   24900\n",
      "한국     10284   10331   10384   10423   10450   10480   10512\n"
     ]
    }
   ],
   "source": [
    "data = pd.read_csv(\"주요발생국가주간동향(4월2째주).csv\", index_col='국가', encoding='cp949')\n",
    "print(data)"
   ],
   "metadata": {
    "collapsed": false,
    "pycharm": {
     "name": "#%%\n"
    }
   }
  },
  {
   "cell_type": "code",
   "source": [
    "print(data.columns)"
   ],
   "metadata": {
    "colab": {
     "base_uri": "https://localhost:8080/"
    },
    "id": "GzLwrE2UOoqK",
    "outputId": "dbebdcec-82cf-4545-b165-dadd3f2acad1",
    "pycharm": {
     "name": "#%%\n"
    }
   },
   "execution_count": 4,
   "outputs": [
    {
     "name": "stdout",
     "output_type": "stream",
     "text": [
      "Index(['4월06일', '4월07일', '4월08일', '4월09일', '4월10일', '4월11일', '4월12일'], dtype='object')\n"
     ]
    }
   ]
  },
  {
   "cell_type": "code",
   "execution_count": 5,
   "metadata": {
    "scrolled": true,
    "id": "DuOuJgM8c2L9",
    "outputId": "5be75de7-50db-459c-f1c6-1d42d2befbe9",
    "colab": {
     "base_uri": "https://localhost:8080/"
    },
    "pycharm": {
     "name": "#%%\n"
    }
   },
   "outputs": [
    {
     "data": {
      "text/plain": "국가\n미국      335524\n스페인     130709\n이탈리아    128948\n독일      100024\n프랑스      70478\n중국       81708\n영국       47806\n이란       58226\n스위스      21104\n한국       10284\nName: 4월06일, dtype: int64"
     },
     "execution_count": 5,
     "metadata": {},
     "output_type": "execute_result"
    }
   ],
   "source": [
    "chartdata = data['4월06일']\n",
    "chartdata"
   ]
  },
  {
   "cell_type": "code",
   "execution_count": 6,
   "metadata": {
    "id": "-4AGLZVFc2L9",
    "outputId": "8eb46fc8-cbe7-466a-d57e-db70b293d8ac",
    "colab": {
     "base_uri": "https://localhost:8080/"
    },
    "pycharm": {
     "name": "#%%\n"
    }
   },
   "outputs": [
    {
     "data": {
      "text/plain": "pandas.core.series.Series"
     },
     "execution_count": 6,
     "metadata": {},
     "output_type": "execute_result"
    }
   ],
   "source": [
    "type(chartdata)"
   ]
  },
  {
   "cell_type": "code",
   "source": [
    "import matplotlib.pyplot as plt\n",
    "\n",
    "plt.rc('font', family='AppleGothic')"
   ],
   "metadata": {
    "id": "OLU8EfwgRpiR",
    "pycharm": {
     "name": "#%%\n"
    }
   },
   "execution_count": 7,
   "outputs": []
  },
  {
   "cell_type": "code",
   "execution_count": 8,
   "metadata": {
    "scrolled": true,
    "id": "BLYRytYLc2L9",
    "outputId": "03529c28-fa81-4d9d-f51e-b085d7284d47",
    "colab": {
     "base_uri": "https://localhost:8080/",
     "height": 1000
    },
    "pycharm": {
     "name": "#%%\n"
    }
   },
   "outputs": [
    {
     "data": {
      "text/plain": "Text(0.5, 1.0, '4월 6일 코로나 발생 건수')"
     },
     "execution_count": 8,
     "metadata": {},
     "output_type": "execute_result"
    },
    {
     "data": {
      "text/plain": "<Figure size 432x288 with 1 Axes>",
      "image/png": "[encoded data removed]"
     },
     "metadata": {
      "needs_background": "light"
     },
     "output_type": "display_data"
    }
   ],
   "source": [
    "YTICKS_INTERVAL = 50000\n",
    "maxlim = (int(chartdata.max() / YTICKS_INTERVAL) + 1) * YTICKS_INTERVAL\n",
    "plt.plot(chartdata, color='blue', linestyle='solid', marker='o')\n",
    "values = np.arange(0, maxlim + 1, YTICKS_INTERVAL)\n",
    "plt.yticks(values, ['%s' % format(val, ',') for val in values])\n",
    "plt.grid(True)\n",
    "plt.xlabel('국가명')\n",
    "\n",
    "plt.ylabel(\"발생 건수\")\n",
    "plt.title('4월 6일 코로나 발생 건수')"
   ]
  },
  {
   "cell_type": "code",
   "execution_count": 9,
   "metadata": {
    "id": "ufeE3kk7c2L-",
    "outputId": "cef9be66-d03e-44f3-c5e9-1aab88a686ac",
    "colab": {
     "base_uri": "https://localhost:8080/"
    },
    "pycharm": {
     "name": "#%%\n"
    }
   },
   "outputs": [
    {
     "data": {
      "text/plain": "Index(['스페인', '프랑스', '독일', '중국', '영국', '이란'], dtype='object', name='국가')"
     },
     "execution_count": 9,
     "metadata": {},
     "output_type": "execute_result"
    }
   ],
   "source": [
    "COUNTRY = ['스페인', '프랑스', '독일', '중국', '영국', '이란']\n",
    "WHEN = ['4월06일', '4월07일', '4월08일', '4월09일', '4월10일']\n",
    "chartdata = data.loc[COUNTRY, WHEN]\n",
    "chartdata = chartdata.T\n",
    "chartdata.columns"
   ]
  },
  {
   "cell_type": "code",
   "execution_count": 10,
   "metadata": {
    "scrolled": true,
    "id": "ofj6aIu_c2L-",
    "outputId": "92c5c79a-001d-4050-db5c-deb7b55baef9",
    "colab": {
     "base_uri": "https://localhost:8080/",
     "height": 206
    },
    "pycharm": {
     "name": "#%%\n"
    }
   },
   "outputs": [
    {
     "data": {
      "text/plain": "국가        스페인    프랑스      독일     중국     영국     이란\n4월06일  130709  70478  100024  81708  47806  58226\n4월07일  135032  74390  102453  81740  51608  60500\n4월08일  140510  78167  107591  81802  55242  62589\n4월09일  146690  82048  112113  81865  60733  64586\n4월10일  152446  86334  118181  81907  65077  66220",
      "text/html": "<div>\n<style scoped>\n    .dataframe tbody tr th:only-of-type {\n        vertical-align: middle;\n    }\n\n    .dataframe tbody tr th {\n        vertical-align: top;\n    }\n\n    .dataframe thead th {\n        text-align: right;\n    }\n</style>\n<table border=\"1\" class=\"dataframe\">\n  <thead>\n    <tr style=\"text-align: right;\">\n      <th>국가</th>\n      <th>스페인</th>\n      <th>프랑스</th>\n      <th>독일</th>\n      <th>중국</th>\n      <th>영국</th>\n      <th>이란</th>\n    </tr>\n  </thead>\n  <tbody>\n    <tr>\n      <th>4월06일</th>\n      <td>130709</td>\n      <td>70478</td>\n      <td>100024</td>\n      <td>81708</td>\n      <td>47806</td>\n      <td>58226</td>\n    </tr>\n    <tr>\n      <th>4월07일</th>\n      <td>135032</td>\n      <td>74390</td>\n      <td>102453</td>\n      <td>81740</td>\n      <td>51608</td>\n      <td>60500</td>\n    </tr>\n    <tr>\n      <th>4월08일</th>\n      <td>140510</td>\n      <td>78167</td>\n      <td>107591</td>\n      <td>81802</td>\n      <td>55242</td>\n      <td>62589</td>\n    </tr>\n    <tr>\n      <th>4월09일</th>\n      <td>146690</td>\n      <td>82048</td>\n      <td>112113</td>\n      <td>81865</td>\n      <td>60733</td>\n      <td>64586</td>\n    </tr>\n    <tr>\n      <th>4월10일</th>\n      <td>152446</td>\n      <td>86334</td>\n      <td>118181</td>\n      <td>81907</td>\n      <td>65077</td>\n      <td>66220</td>\n    </tr>\n  </tbody>\n</table>\n</div>"
     },
     "execution_count": 10,
     "metadata": {},
     "output_type": "execute_result"
    }
   ],
   "source": [
    "chartdata"
   ]
  },
  {
   "cell_type": "code",
   "execution_count": 11,
   "metadata": {
    "id": "we7bca-6c2L-",
    "outputId": "817ea38d-a25c-4f48-8055-23cd3d5ea455",
    "colab": {
     "base_uri": "https://localhost:8080/",
     "height": 1000
    },
    "pycharm": {
     "name": "#%%\n"
    }
   },
   "outputs": [
    {
     "data": {
      "text/plain": "Text(0.5, 1.0, '일자별 국가명 꺽은 선')"
     },
     "execution_count": 11,
     "metadata": {},
     "output_type": "execute_result"
    },
    {
     "data": {
      "text/plain": "<Figure size 720x432 with 1 Axes>",
      "image/png": "[encoded data removed]"
     },
     "metadata": {
      "needs_background": "light"
     },
     "output_type": "display_data"
    }
   ],
   "source": [
    "chartdata.plot(title='SomeTitie', figsize=(10, 6), legend = True, marker='o', rot=0)\n",
    "plt.grid(True)\n",
    "plt.xlabel('일자')\n",
    "plt.ylabel('국가명')\n",
    "plt.title('일자별 국가명 꺽은 선')"
   ]
  },
  {
   "cell_type": "code",
   "source": [
    "data = pd.read_csv(\"주요발생국가주간동향(4월2째주).csv\", index_col='국가', encoding='cp949')\n",
    "data.columns"
   ],
   "metadata": {
    "colab": {
     "base_uri": "https://localhost:8080/"
    },
    "id": "DZGmxoct2wUF",
    "outputId": "5c06df75-27d3-45cd-f6ae-5bbf74af9f00",
    "pycharm": {
     "name": "#%%\n"
    }
   },
   "execution_count": 12,
   "outputs": [
    {
     "data": {
      "text/plain": "Index(['4월06일', '4월07일', '4월08일', '4월09일', '4월10일', '4월11일', '4월12일'], dtype='object')"
     },
     "execution_count": 12,
     "metadata": {},
     "output_type": "execute_result"
    }
   ]
  },
  {
   "cell_type": "code",
   "source": [
    "chartdata = data['4월06일']\n",
    "chartdata"
   ],
   "metadata": {
    "colab": {
     "base_uri": "https://localhost:8080/"
    },
    "id": "lMgTG3CP22W2",
    "outputId": "ffedc358-96c4-4139-f7b3-e697d1b57797",
    "pycharm": {
     "name": "#%%\n"
    }
   },
   "execution_count": 13,
   "outputs": [
    {
     "data": {
      "text/plain": "국가\n미국      335524\n스페인     130709\n이탈리아    128948\n독일      100024\n프랑스      70478\n중국       81708\n영국       47806\n이란       58226\n스위스      21104\n한국       10284\nName: 4월06일, dtype: int64"
     },
     "execution_count": 13,
     "metadata": {},
     "output_type": "execute_result"
    }
   ]
  },
  {
   "cell_type": "code",
   "execution_count": 14,
   "metadata": {
    "id": "-O5L4lLjc2MB",
    "pycharm": {
     "name": "#%%\n"
    }
   },
   "outputs": [],
   "source": [
    "# plt.bar() 메소드를 사용한 막대 그래프\n",
    "def MakeBarChart01(x, y, color, xlabel, ylabel, title):\n",
    "    plt.figure()\n",
    "    plt.bar(x, y, color=color, alpha=0.7)\n",
    "\n",
    "    plt.xlabel(xlabel)\n",
    "    plt.ylabel(ylabel)\n",
    "    plt.title(title)\n",
    "    # plt.grid(True)\n",
    "\n",
    "    YTICKS_INTERVAL = 50000\n",
    "\n",
    "    maxlim = (int(y.max() / YTICKS_INTERVAL) + 1) * YTICKS_INTERVAL\n",
    "    print(maxlim)\n",
    "\n",
    "    values = np.arange(0, maxlim + 1, YTICKS_INTERVAL)\n",
    "\n",
    "    plt.yticks(values, ['%s' % format(val, ',') for val in values])\n",
    "\n",
    "    # 그래프 위에 건수와 비율 구하기\n",
    "    ratio = 100 * y / y.sum()\n",
    "    print(ratio)\n",
    "    \n",
    "\n",
    "    plt.rc('font', size=6)\n",
    "    for idx in range(y.size):\n",
    "        value = format(y[idx], ',') + '건'  # 예시 : 60건\n",
    "        ratioval = '%.1f%%' % (ratio[idx])  # 예시 : 20.0%\n",
    "        # 그래프의 위에 \"건수\" 표시\n",
    "        plt.text(x=idx, y=y[idx] + 1, s=value, horizontalalignment='center')\n",
    "        # 그래프의 중간에 비율 표시\n",
    "        plt.text(x=idx, y=y[idx] / 2, s=ratioval, horizontalalignment='center')\n",
    "\n",
    "    # 평균 값을 수평선으로 그리기\n",
    "    meanval = y.mean()\n",
    "    print(meanval)\n",
    "\n",
    "    average = '평균 : %d건' % meanval\n",
    "    plt.axhline(y=meanval, color='r', linewidth=1, linestyle='dashed')\n",
    "    plt.text(x=y.size - 1, y=meanval + 200, s=average, horizontalalignment='center')\n",
    "\n",
    "# def MakeBarChart01"
   ]
  },
  {
   "cell_type": "code",
   "source": [
    "colors = ['b', 'g', 'r', 'c', 'm', 'y', 'k']\n",
    "mycolor = colors[0:len(chartdata)]"
   ],
   "metadata": {
    "id": "lSxNheMr2oUd",
    "pycharm": {
     "name": "#%%\n"
    }
   },
   "execution_count": 15,
   "outputs": []
  },
  {
   "cell_type": "code",
   "source": [
    "MakeBarChart01(x=chartdata.index, y=chartdata, color=mycolor, xlabel='국가명', \n",
    "               ylabel='발생건수', title='국가별 코로나 발생 건수')"
   ],
   "metadata": {
    "colab": {
     "base_uri": "https://localhost:8080/",
     "height": 1000
    },
    "id": "VCYEMBoV2s4V",
    "outputId": "4cfb759f-2682-4f59-8676-a3621f964b50",
    "pycharm": {
     "name": "#%%\n"
    }
   },
   "execution_count": 16,
   "outputs": [
    {
     "name": "stdout",
     "output_type": "stream",
     "text": [
      "350000\n",
      "국가\n",
      "미국      34.069888\n",
      "스페인     13.272496\n",
      "이탈리아    13.093680\n",
      "독일      10.156670\n",
      "프랑스      7.156500\n",
      "중국       8.296820\n",
      "영국       4.854332\n",
      "이란       5.912403\n",
      "스위스      2.142949\n",
      "한국       1.044261\n",
      "Name: 4월06일, dtype: float64\n",
      "98481.1\n"
     ]
    },
    {
     "data": {
      "text/plain": "<Figure size 432x288 with 1 Axes>",
      "image/png": "[encoded data removed]"
     },
     "metadata": {
      "needs_background": "light"
     },
     "output_type": "display_data"
    }
   ]
  },
  {
   "cell_type": "code",
   "execution_count": 17,
   "outputs": [],
   "source": [
    "# 데이터 프레임을 사용하여 막대 그래프를 그려 주는 함수입니다.\n",
    "def MakeBarChart02(chartdata, rotation, title, ylim=None, stacked=False, yticks_interval = 10000):\n",
    "    plt.figure()\n",
    "    # 범례에 제목을 넣으려면 plot() 메소드의 legend 옵션을 사용해야 합니다.\n",
    "    chartdata.plot(kind='bar', rot=rotation, title=title, legend=True, stacked=stacked)\n",
    "\n",
    "    plt.legend(loc='best')\n",
    "\n",
    "    print(chartdata)\n",
    "\n",
    "    if stacked == False :\n",
    "        # max(chartdata.max())은 항목들 값 중에서 최대 값을 의미합니다.\n",
    "        maxlim = (int(max(chartdata.max()) / yticks_interval) + 1) * yticks_interval\n",
    "        # print(maxlim)\n",
    "        values = np.arange(0, maxlim + 1, yticks_interval)\n",
    "        plt.yticks(values, ['%s' % format(val, ',') for val in values])\n",
    "    else : # 누적 막대 그래프\n",
    "        # 국가별 누적 합인 chartdata.sum(axis=1))의 최대 값에 대한 연산이 이루어 져야 합니다.\n",
    "        maxlim = (int(max(chartdata.sum(axis=1)) / yticks_interval) + 1) * yticks_interval\n",
    "        # print(maxlim)\n",
    "        values = np.arange(0, maxlim + 1, yticks_interval)\n",
    "        plt.yticks(values, ['%s' % format(val, ',') for val in values])\n",
    "\n",
    "    # y축의 상하한 값이 주어 지는 경우에만 설정합니다.\n",
    "    if ylim != None :\n",
    "        plt.ylim(ylim)\n",
    "\n",
    "# def MakeBarChart02"
   ],
   "metadata": {
    "collapsed": false,
    "pycharm": {
     "name": "#%%\n"
    }
   }
  },
  {
   "cell_type": "code",
   "execution_count": 18,
   "outputs": [
    {
     "data": {
      "text/plain": "Index(['4월06일', '4월07일', '4월08일', '4월09일', '4월10일', '4월11일', '4월12일'], dtype='object')"
     },
     "execution_count": 18,
     "metadata": {},
     "output_type": "execute_result"
    }
   ],
   "source": [
    "data = pd.read_csv(\"주요발생국가주간동향(4월2째주).csv\", index_col='국가', encoding='CP949')\n",
    "data.columns"
   ],
   "metadata": {
    "collapsed": false,
    "pycharm": {
     "name": "#%%\n"
    }
   }
  },
  {
   "cell_type": "code",
   "source": [
    "COUNTRY = ['프랑스', '중국', '영국', '이란']\n",
    "WHEN = ['4월06일', '4월07일', '4월08일']\n",
    "data = data.loc[COUNTRY, WHEN]\n",
    "data.index.name = '국가명'\n",
    "data.columns.name = '일자'\n",
    "data"
   ],
   "metadata": {
    "colab": {
     "base_uri": "https://localhost:8080/",
     "height": 206
    },
    "id": "4wmQtHpi3Q7V",
    "outputId": "da52f57f-8588-41b5-e40f-07cb006c8e10",
    "pycharm": {
     "name": "#%%\n"
    }
   },
   "execution_count": 19,
   "outputs": [
    {
     "data": {
      "text/plain": "일자   4월06일  4월07일  4월08일\n국가명                     \n프랑스  70478  74390  78167\n중국   81708  81740  81802\n영국   47806  51608  55242\n이란   58226  60500  62589",
      "text/html": "<div>\n<style scoped>\n    .dataframe tbody tr th:only-of-type {\n        vertical-align: middle;\n    }\n\n    .dataframe tbody tr th {\n        vertical-align: top;\n    }\n\n    .dataframe thead th {\n        text-align: right;\n    }\n</style>\n<table border=\"1\" class=\"dataframe\">\n  <thead>\n    <tr style=\"text-align: right;\">\n      <th>일자</th>\n      <th>4월06일</th>\n      <th>4월07일</th>\n      <th>4월08일</th>\n    </tr>\n    <tr>\n      <th>국가명</th>\n      <th></th>\n      <th></th>\n      <th></th>\n    </tr>\n  </thead>\n  <tbody>\n    <tr>\n      <th>프랑스</th>\n      <td>70478</td>\n      <td>74390</td>\n      <td>78167</td>\n    </tr>\n    <tr>\n      <th>중국</th>\n      <td>81708</td>\n      <td>81740</td>\n      <td>81802</td>\n    </tr>\n    <tr>\n      <th>영국</th>\n      <td>47806</td>\n      <td>51608</td>\n      <td>55242</td>\n    </tr>\n    <tr>\n      <th>이란</th>\n      <td>58226</td>\n      <td>60500</td>\n      <td>62589</td>\n    </tr>\n  </tbody>\n</table>\n</div>"
     },
     "execution_count": 19,
     "metadata": {},
     "output_type": "execute_result"
    }
   ]
  },
  {
   "cell_type": "code",
   "source": [
    "MakeBarChart02(chartdata=data, rotation=0, title='국가별 일별 발생 건수' )"
   ],
   "metadata": {
    "colab": {
     "base_uri": "https://localhost:8080/",
     "height": 410
    },
    "id": "p6dOr6Wq3V-N",
    "outputId": "a42d765f-5d7e-4d03-a705-419abbf41356",
    "pycharm": {
     "name": "#%%\n"
    }
   },
   "execution_count": 20,
   "outputs": [
    {
     "name": "stdout",
     "output_type": "stream",
     "text": [
      "일자   4월06일  4월07일  4월08일\n",
      "국가명                     \n",
      "프랑스  70478  74390  78167\n",
      "중국   81708  81740  81802\n",
      "영국   47806  51608  55242\n",
      "이란   58226  60500  62589\n"
     ]
    },
    {
     "data": {
      "text/plain": "<Figure size 432x288 with 0 Axes>"
     },
     "metadata": {},
     "output_type": "display_data"
    },
    {
     "data": {
      "text/plain": "<Figure size 432x288 with 1 Axes>",
      "image/png": "[encoded data removed]"
     },
     "metadata": {
      "needs_background": "light"
     },
     "output_type": "display_data"
    }
   ]
  },
  {
   "cell_type": "code",
   "source": [
    "# 전치 프레임을 그래프로 그려 보기\n",
    "dataT = data.T\n",
    "dataT"
   ],
   "metadata": {
    "colab": {
     "base_uri": "https://localhost:8080/",
     "height": 175
    },
    "id": "OmUApxAg3Zz9",
    "outputId": "7b784654-cc5d-46cf-cd03-c694d1756b83",
    "pycharm": {
     "name": "#%%\n"
    }
   },
   "execution_count": 21,
   "outputs": [
    {
     "data": {
      "text/plain": "국가명      프랑스     중국     영국     이란\n일자                               \n4월06일  70478  81708  47806  58226\n4월07일  74390  81740  51608  60500\n4월08일  78167  81802  55242  62589",
      "text/html": "<div>\n<style scoped>\n    .dataframe tbody tr th:only-of-type {\n        vertical-align: middle;\n    }\n\n    .dataframe tbody tr th {\n        vertical-align: top;\n    }\n\n    .dataframe thead th {\n        text-align: right;\n    }\n</style>\n<table border=\"1\" class=\"dataframe\">\n  <thead>\n    <tr style=\"text-align: right;\">\n      <th>국가명</th>\n      <th>프랑스</th>\n      <th>중국</th>\n      <th>영국</th>\n      <th>이란</th>\n    </tr>\n    <tr>\n      <th>일자</th>\n      <th></th>\n      <th></th>\n      <th></th>\n      <th></th>\n    </tr>\n  </thead>\n  <tbody>\n    <tr>\n      <th>4월06일</th>\n      <td>70478</td>\n      <td>81708</td>\n      <td>47806</td>\n      <td>58226</td>\n    </tr>\n    <tr>\n      <th>4월07일</th>\n      <td>74390</td>\n      <td>81740</td>\n      <td>51608</td>\n      <td>60500</td>\n    </tr>\n    <tr>\n      <th>4월08일</th>\n      <td>78167</td>\n      <td>81802</td>\n      <td>55242</td>\n      <td>62589</td>\n    </tr>\n  </tbody>\n</table>\n</div>"
     },
     "execution_count": 21,
     "metadata": {},
     "output_type": "execute_result"
    }
   ]
  },
  {
   "cell_type": "code",
   "source": [
    "MakeBarChart02(chartdata=dataT, rotation=0, title='일별 국가별 발생 건수')"
   ],
   "metadata": {
    "colab": {
     "base_uri": "https://localhost:8080/",
     "height": 392
    },
    "id": "wHYnLWiD3btd",
    "outputId": "c63c162f-e048-4825-bc9f-764e9352c9af",
    "pycharm": {
     "name": "#%%\n"
    }
   },
   "execution_count": 22,
   "outputs": [
    {
     "name": "stdout",
     "output_type": "stream",
     "text": [
      "국가명      프랑스     중국     영국     이란\n",
      "일자                               \n",
      "4월06일  70478  81708  47806  58226\n",
      "4월07일  74390  81740  51608  60500\n",
      "4월08일  78167  81802  55242  62589\n"
     ]
    },
    {
     "data": {
      "text/plain": "<Figure size 432x288 with 0 Axes>"
     },
     "metadata": {},
     "output_type": "display_data"
    },
    {
     "data": {
      "text/plain": "<Figure size 432x288 with 1 Axes>",
      "image/png": "[encoded data removed]"
     },
     "metadata": {
      "needs_background": "light"
     },
     "output_type": "display_data"
    }
   ]
  },
  {
   "cell_type": "code",
   "source": [
    "ymax = dataT.sum(axis=1)\n",
    "ymaxlimit = ymax.max() + 10\n",
    "\n",
    "MakeBarChart02(chartdata=data, rotation=0, title='국가별 일별 발생 건수(누적)', \n",
    "               ylim=[0, ymaxlimit], stacked=True, yticks_interval=50000)"
   ],
   "metadata": {
    "colab": {
     "base_uri": "https://localhost:8080/",
     "height": 410
    },
    "id": "qP2LL4mo3giV",
    "outputId": "35c4b508-24cd-432d-8097-fa0bf5453d6d",
    "pycharm": {
     "name": "#%%\n"
    }
   },
   "execution_count": 23,
   "outputs": [
    {
     "name": "stdout",
     "output_type": "stream",
     "text": [
      "일자   4월06일  4월07일  4월08일\n",
      "국가명                     \n",
      "프랑스  70478  74390  78167\n",
      "중국   81708  81740  81802\n",
      "영국   47806  51608  55242\n",
      "이란   58226  60500  62589\n"
     ]
    },
    {
     "data": {
      "text/plain": "<Figure size 432x288 with 0 Axes>"
     },
     "metadata": {},
     "output_type": "display_data"
    },
    {
     "data": {
      "text/plain": "<Figure size 432x288 with 1 Axes>",
      "image/png": "[encoded data removed]"
     },
     "metadata": {
      "needs_background": "light"
     },
     "output_type": "display_data"
    }
   ]
  },
  {
   "cell_type": "code",
   "source": [
    "data = pd.read_csv('주요발생국가주간동향(4월2째주).csv', index_col='국가', encoding='CP949')\n",
    "three = [item for item in data.index if item in ['프랑스', '영국', '중국']]\n",
    "three"
   ],
   "metadata": {
    "colab": {
     "base_uri": "https://localhost:8080/"
    },
    "id": "pFs3jH9I3kqc",
    "outputId": "3f5c9034-ee87-4afe-b9a0-231d807f8d60",
    "pycharm": {
     "name": "#%%\n"
    }
   },
   "execution_count": 24,
   "outputs": [
    {
     "data": {
      "text/plain": "['프랑스', '중국', '영국']"
     },
     "execution_count": 24,
     "metadata": {},
     "output_type": "execute_result"
    }
   ]
  },
  {
   "cell_type": "code",
   "source": [
    "data = data.loc[three]\n",
    "data"
   ],
   "metadata": {
    "colab": {
     "base_uri": "https://localhost:8080/",
     "height": 175
    },
    "id": "UkxYfkua3269",
    "outputId": "04b204f0-70d0-4941-e593-9683c3dee9f8",
    "pycharm": {
     "name": "#%%\n"
    }
   },
   "execution_count": 25,
   "outputs": [
    {
     "data": {
      "text/plain": "     4월06일  4월07일  4월08일  4월09일  4월10일  4월11일  4월12일\n국가                                                  \n프랑스  70478  74390  78167  82048  86334  90276  93790\n중국   81708  81740  81802  81865  81907  81953  82052\n영국   47806  51608  55242  60733  65077  73758  78991",
      "text/html": "<div>\n<style scoped>\n    .dataframe tbody tr th:only-of-type {\n        vertical-align: middle;\n    }\n\n    .dataframe tbody tr th {\n        vertical-align: top;\n    }\n\n    .dataframe thead th {\n        text-align: right;\n    }\n</style>\n<table border=\"1\" class=\"dataframe\">\n  <thead>\n    <tr style=\"text-align: right;\">\n      <th></th>\n      <th>4월06일</th>\n      <th>4월07일</th>\n      <th>4월08일</th>\n      <th>4월09일</th>\n      <th>4월10일</th>\n      <th>4월11일</th>\n      <th>4월12일</th>\n    </tr>\n    <tr>\n      <th>국가</th>\n      <th></th>\n      <th></th>\n      <th></th>\n      <th></th>\n      <th></th>\n      <th></th>\n      <th></th>\n    </tr>\n  </thead>\n  <tbody>\n    <tr>\n      <th>프랑스</th>\n      <td>70478</td>\n      <td>74390</td>\n      <td>78167</td>\n      <td>82048</td>\n      <td>86334</td>\n      <td>90276</td>\n      <td>93790</td>\n    </tr>\n    <tr>\n      <th>중국</th>\n      <td>81708</td>\n      <td>81740</td>\n      <td>81802</td>\n      <td>81865</td>\n      <td>81907</td>\n      <td>81953</td>\n      <td>82052</td>\n    </tr>\n    <tr>\n      <th>영국</th>\n      <td>47806</td>\n      <td>51608</td>\n      <td>55242</td>\n      <td>60733</td>\n      <td>65077</td>\n      <td>73758</td>\n      <td>78991</td>\n    </tr>\n  </tbody>\n</table>\n</div>"
     },
     "execution_count": 25,
     "metadata": {},
     "output_type": "execute_result"
    }
   ]
  },
  {
   "cell_type": "code",
   "source": [
    "column_names = data.columns.tolist()\n",
    "column_names"
   ],
   "metadata": {
    "colab": {
     "base_uri": "https://localhost:8080/"
    },
    "id": "sefWvLa836DV",
    "outputId": "0e7d59d4-a32d-4521-acf4-ba1f4869840a",
    "pycharm": {
     "name": "#%%\n"
    }
   },
   "execution_count": 26,
   "outputs": [
    {
     "data": {
      "text/plain": "['4월06일', '4월07일', '4월08일', '4월09일', '4월10일', '4월11일', '4월12일']"
     },
     "execution_count": 26,
     "metadata": {},
     "output_type": "execute_result"
    }
   ]
  },
  {
   "cell_type": "code",
   "source": [
    "# 국가별 numpy 배열을 저장하고 있는 사전\n",
    "chartdata = {}\n",
    "\n",
    "for row in data.index:\n",
    "    # data.loc[row])\n",
    "    # type(row))\n",
    "    chartdata[row] = data.loc[row].values\n",
    "\n",
    "chartdata"
   ],
   "metadata": {
    "colab": {
     "base_uri": "https://localhost:8080/"
    },
    "id": "U4S96ze54A_l",
    "outputId": "b8800f61-1481-4e6f-9af0-11f8d77a2ded",
    "pycharm": {
     "name": "#%%\n"
    }
   },
   "execution_count": 27,
   "outputs": [
    {
     "data": {
      "text/plain": "{'프랑스': array([70478, 74390, 78167, 82048, 86334, 90276, 93790]),\n '중국': array([81708, 81740, 81802, 81865, 81907, 81953, 82052]),\n '영국': array([47806, 51608, 55242, 60733, 65077, 73758, 78991])}"
     },
     "execution_count": 27,
     "metadata": {},
     "output_type": "execute_result"
    }
   ]
  },
  {
   "cell_type": "code",
   "source": [
    "def MakeBarChart03(chartdata, column_names):\n",
    "    labels = list(chartdata.keys())\n",
    "    data = np.array(list(chartdata.values()))\n",
    "    data_cum = data.cumsum(axis=1)\n",
    "    category_colors = plt.get_cmap('RdYlGn')(\n",
    "        np.linspace(0.15, 0.85, data.shape[1]))\n",
    "\n",
    "    fig, ax = plt.subplots(figsize=(9.2, 5))\n",
    "    ax.invert_yaxis()\n",
    "    ax.xaxis.set_visible(False)\n",
    "    ax.set_xlim(0, np.sum(data, axis=1).max())\n",
    "\n",
    "    for i, (colname, color) in enumerate(zip(column_names, category_colors)):\n",
    "        widths = data[:, i]\n",
    "        starts = data_cum[:, i] - widths\n",
    "        ax.barh(labels, widths, left=starts, height=0.5,\n",
    "                label=colname, color=color)\n",
    "        xcenters = starts + widths / 2\n",
    "\n",
    "        r, g, b, _ = color\n",
    "        text_color = 'white' if r * g * b < 0.5 else 'darkgrey'\n",
    "        for y, (x, c) in enumerate(zip(xcenters, widths)):\n",
    "            ax.text(x, y, str(int(c)), ha='center', va='center',\n",
    "                    color=text_color)\n",
    "    ax.legend(ncol=len(column_names), bbox_to_anchor=(0, 1),\n",
    "              loc='lower left', fontsize='small')\n",
    "\n",
    "\n",
    "    return fig, ax\n",
    "# end def MakeBarChart03"
   ],
   "metadata": {
    "id": "M7eGjaCb4FGt",
    "pycharm": {
     "name": "#%%\n"
    }
   },
   "execution_count": 28,
   "outputs": []
  },
  {
   "cell_type": "code",
   "source": [
    "MakeBarChart03(chartdata, column_names)"
   ],
   "metadata": {
    "colab": {
     "base_uri": "https://localhost:8080/",
     "height": 337
    },
    "id": "xPCvFYHt4IZN",
    "outputId": "7295d237-a463-4e90-99e6-fac94e120337",
    "pycharm": {
     "name": "#%%\n"
    }
   },
   "execution_count": 29,
   "outputs": [
    {
     "data": {
      "text/plain": "(<Figure size 662.4x360 with 1 Axes>, <AxesSubplot:>)"
     },
     "execution_count": 29,
     "metadata": {},
     "output_type": "execute_result"
    },
    {
     "data": {
      "text/plain": "<Figure size 662.4x360 with 1 Axes>",
      "image/png": "[encoded data removed]"
     },
     "metadata": {
      "needs_background": "light"
     },
     "output_type": "display_data"
    }
   ]
  },
  {
   "cell_type": "code",
   "source": [
    "plt.rc('font', family='AppleGothic')\n",
    "cnt, PNG, UNDERBAR = 0, '.png', '_'\n",
    "CHART_NAME = 'pieChartExam'"
   ],
   "metadata": {
    "id": "wYP8Y2348ble",
    "pycharm": {
     "name": "#%%\n"
    }
   },
   "execution_count": 30,
   "outputs": []
  },
  {
   "cell_type": "code",
   "source": [
    "data = pd.read_csv('주요발생국가주간동향(4월2째주).csv', index_col='국가', encoding='CP949')\n",
    "print(data.columns)"
   ],
   "metadata": {
    "colab": {
     "base_uri": "https://localhost:8080/"
    },
    "id": "YBaTsESA7lEc",
    "outputId": "d76fc85a-0d7b-4186-c532-65c65758b6b3",
    "pycharm": {
     "name": "#%%\n"
    }
   },
   "execution_count": 31,
   "outputs": [
    {
     "name": "stdout",
     "output_type": "stream",
     "text": [
      "Index(['4월06일', '4월07일', '4월08일', '4월09일', '4월10일', '4월11일', '4월12일'], dtype='object')\n"
     ]
    }
   ]
  },
  {
   "cell_type": "code",
   "source": [
    "my_concern = [item for item in data.index if item in ['독일', '프랑스', '중국', '영국']]\n",
    "print(my_concern)"
   ],
   "metadata": {
    "colab": {
     "base_uri": "https://localhost:8080/"
    },
    "id": "mp42mfm_7xGs",
    "outputId": "5698f6c4-d105-4f41-ea96-b4b416a165ae",
    "pycharm": {
     "name": "#%%\n"
    }
   },
   "execution_count": 32,
   "outputs": [
    {
     "name": "stdout",
     "output_type": "stream",
     "text": [
      "['독일', '프랑스', '중국', '영국']\n"
     ]
    }
   ]
  },
  {
   "cell_type": "code",
   "source": [
    "data = data.loc[my_concern]\n",
    "chartdata = data['4월06일']\n",
    "\n",
    "print(chartdata)"
   ],
   "metadata": {
    "colab": {
     "base_uri": "https://localhost:8080/"
    },
    "id": "cuPtDHWy7zie",
    "outputId": "1e68c703-6f16-4c13-d036-b5db5b5c6560",
    "pycharm": {
     "name": "#%%\n"
    }
   },
   "execution_count": 33,
   "outputs": [
    {
     "name": "stdout",
     "output_type": "stream",
     "text": [
      "국가\n",
      "독일     100024\n",
      "프랑스     70478\n",
      "중국      81708\n",
      "영국      47806\n",
      "Name: 4월06일, dtype: int64\n"
     ]
    }
   ]
  },
  {
   "cell_type": "code",
   "source": [
    "print(type(chartdata))\n",
    "\n",
    "mylabel = chartdata.index\n",
    "\n",
    "print(mylabel)"
   ],
   "metadata": {
    "colab": {
     "base_uri": "https://localhost:8080/"
    },
    "id": "1-DFNTBI76t2",
    "outputId": "7d8270a7-9397-4e4d-fc0b-8ad6f6b71b7c",
    "pycharm": {
     "name": "#%%\n"
    }
   },
   "execution_count": 34,
   "outputs": [
    {
     "name": "stdout",
     "output_type": "stream",
     "text": [
      "<class 'pandas.core.series.Series'>\n",
      "Index(['독일', '프랑스', '중국', '영국'], dtype='object', name='국가')\n"
     ]
    }
   ]
  },
  {
   "cell_type": "code",
   "source": [
    "mycolors = ['#CAF270', '#6FD388', '#2BAD97', '#2C8391']\n",
    "\n",
    "plt.figure()\n",
    "\n",
    "plt.pie(chartdata, labels=mylabel, shadow=False, explode=(0, 0.05, 0, 0),\n",
    "        colors=mycolors, autopct='%1.2f%%', startangle=90, counterclock=False)\n",
    "\n",
    "plt.grid(True)\n",
    "plt.legend(loc=4)\n",
    "plt.xlabel('국가명')\n",
    "# plt.ylabel(\"발생 건수\")\n",
    "plt.title('주요 국가 발생 건수')\n",
    "\n",
    "cnt += 1\n",
    "savefile = CHART_NAME + UNDERBAR + str(cnt).zfill(2) + PNG\n",
    "plt.savefig(savefile, dpi=400)\n",
    "print(savefile + ' 파일이 저장되었습니다.')"
   ],
   "metadata": {
    "colab": {
     "base_uri": "https://localhost:8080/",
     "height": 292
    },
    "id": "G4QZ1DU_8HNv",
    "outputId": "c2e62e15-ade9-49e2-9143-829350367780",
    "pycharm": {
     "name": "#%%\n"
    }
   },
   "execution_count": 37,
   "outputs": [
    {
     "name": "stdout",
     "output_type": "stream",
     "text": [
      "pieChartExam_02.png 파일이 저장되었습니다.\n"
     ]
    },
    {
     "data": {
      "text/plain": "<Figure size 432x288 with 1 Axes>",
      "image/png": "[encoded data removed]"
     },
     "metadata": {},
     "output_type": "display_data"
    }
   ]
  },
  {
   "cell_type": "code",
   "source": [
    "import numpy as np\n",
    "fig, ax = plt.subplots(figsize=(6, 3), subplot_kw=dict(aspect=\"equal\"))\n",
    "\n",
    "def getLabelFormat(pct, allvals):\n",
    "    absolute = int(pct/100.*np.sum(allvals))\n",
    "    return \"{:.2f}%\\n({:d} 명)\".format(pct, absolute)\n",
    "\n",
    "wedges, texts, autotexts = ax.pie(chartdata, autopct=lambda pct: getLabelFormat(pct, chartdata),\n",
    "                                  textprops=dict(color=\"w\"))\n",
    "\n",
    "ax.legend(wedges, mylabel,\n",
    "          title=\"국가명\",\n",
    "          loc=\"center left\",\n",
    "          bbox_to_anchor=(1, 0, 0.5, 1))\n",
    "\n",
    "plt.setp(autotexts, size=8, weight=\"bold\")\n",
    "\n",
    "ax.set_title(\"주요 국가 발생 건수\")\n",
    "\n",
    "cnt += 1\n",
    "savefile = CHART_NAME + UNDERBAR + str(cnt).zfill(2) + PNG\n",
    "plt.savefig(savefile, dpi=400)\n",
    "print(savefile + ' 파일이 저장되었습니다.')"
   ],
   "metadata": {
    "colab": {
     "base_uri": "https://localhost:8080/",
     "height": 224
    },
    "id": "LbBM9vqT9K9e",
    "outputId": "884badfd-bc45-4d38-e509-98f20418ebaa",
    "pycharm": {
     "name": "#%%\n"
    }
   },
   "execution_count": null,
   "outputs": []
  },
  {
   "cell_type": "code",
   "source": [
    "data = pd.read_csv('주요발생국가주간동향(4월2째주).csv', index_col='국가', encoding='CP949')\n",
    "\n",
    "fig, ax = plt.subplots(figsize=(6, 3), subplot_kw=dict(aspect=\"equal\"))\n",
    "\n",
    "COUNTRY = ['독일', '프랑스', '중국', '영국', '이탈리아']\n",
    "\n",
    "data = data.loc[COUNTRY, ['4월06일']]\n",
    "print(data.values.flatten())\n",
    "print('-'*30)\n",
    "\n",
    "wedges, texts = ax.pie(data.values.flatten(), wedgeprops=dict(width=0.5), startangle=-40)\n",
    "\n",
    "bbox_props = dict(boxstyle=\"square,pad=0.3\", fc=\"w\", ec=\"k\", lw=0.72)\n",
    "kw = dict(arrowprops=dict(arrowstyle=\"-\"),\n",
    "          bbox=bbox_props, zorder=0, va=\"center\")\n",
    "\n",
    "for i, p in enumerate(wedges):\n",
    "    ang = (p.theta2 - p.theta1)/2. + p.theta1\n",
    "    print('ang : ', ang)\n",
    "    y = np.sin(np.deg2rad(ang))\n",
    "    x = np.cos(np.deg2rad(ang))\n",
    "\n",
    "    horizontalalignment = {-1: \"right\", 1: \"left\"}[int(np.sign(x))]\n",
    "\n",
    "    connectionstyle = \"angle,angleA=0,angleB={}\".format(ang)\n",
    "\n",
    "    kw[\"arrowprops\"].update({\"connectionstyle\": connectionstyle})\n",
    "\n",
    "    ax.annotate(COUNTRY[i], xy=(x, y), xytext=(1.3*np.sign(x), 1.4*y),\n",
    "                horizontalalignment=horizontalalignment, **kw)\n",
    "\n",
    "ax.set_title(\"도우넛 그래프\")\n",
    "\n",
    "cnt += 1\n",
    "savefile = CHART_NAME + UNDERBAR + str(cnt).zfill(2) + PNG\n",
    "# plt.legend(loc='best')\n",
    "plt.savefig(savefile, dpi=400)\n",
    "print(savefile + ' 파일이 저장되었습니다.')"
   ],
   "metadata": {
    "colab": {
     "base_uri": "https://localhost:8080/",
     "height": 364
    },
    "id": "ZNbLYFmb9Ufe",
    "outputId": "107ebec5-7241-4287-832d-2ec0160a6622",
    "pycharm": {
     "name": "#%%\n"
    }
   },
   "execution_count": null,
   "outputs": []
  },
  {
   "cell_type": "code",
   "source": [
    "print('주요 국가별 중첩 파이 그래프를 그려 봅니다.')\n",
    "fig, ax = plt.subplots()\n",
    "\n",
    "data = pd.read_csv('주요발생국가주간동향(4월2째주).csv', index_col='국가', encoding='CP949')\n",
    "\n",
    "print(data)\n",
    "print('-'*30)\n",
    "\n",
    "COUNTRY = ['독일', '프랑스', '중국', '영국', '이탈리아']\n",
    "my_concern = [item for item in data.index if item in COUNTRY]\n",
    "print(my_concern)\n",
    "\n",
    "data = data.loc[my_concern]\n",
    "\n",
    "filtered_data = data[['4월06일', '4월07일']]\n",
    "\n",
    "print(filtered_data)\n",
    "print('-'*30)\n",
    "\n",
    "print(filtered_data.index.values)\n",
    "print('-'*30)\n",
    "\n",
    "totallist = [] # 차트를 그릴 중첩 데이터\n",
    "for key in filtered_data.index.values :\n",
    "       imsi = filtered_data.loc[key].values\n",
    "       totallist.append([item for item in imsi])\n",
    "\n",
    "chartdata = np.array(totallist)\n",
    "print('chartdata : \\n', chartdata)\n",
    "\n",
    "color_su = len(COUNTRY) # 색상의 개수\n",
    "cmap = plt.get_cmap(\"tab20c\")\n",
    "outer_colors = cmap(np.arange(color_su)*4)\n",
    "\n",
    "inner_colors = cmap(np.arange(2*color_su))\n",
    "print('inner_colors :', inner_colors)\n",
    "print('outer_colors :', outer_colors)\n",
    "\n",
    "cum_sum = chartdata.sum(axis=1) # 누계\n",
    "print('cum_sum : ', cum_sum)\n",
    "\n",
    "# 숫자가 적을 수록 가운데 비어 있는 원이 커집니다.\n",
    "INNER_VACANT_CIRCLE_SIZE = 0.3\n",
    "\n",
    "# OUTER_PCTDISTANCE : 비율을 보여주는 위치를 지정하는 데, 원점에서의 거리를 지정하면 됩니다.\n",
    "OUTER_PCTDISTANCE = 0.85\n",
    "# edgecolor='w', 'None'\n",
    "ax.pie(cum_sum, radius=1, colors=outer_colors,\n",
    "       wedgeprops=dict(width=INNER_VACANT_CIRCLE_SIZE, edgecolor='w'),\n",
    "       labels=COUNTRY, autopct='%.2f%%', pctdistance=OUTER_PCTDISTANCE)\n",
    "\n",
    "INNER_PCTDISTANCE = 0.75\n",
    "\n",
    "ax.pie(chartdata.flatten(), radius=1-INNER_VACANT_CIRCLE_SIZE, colors=inner_colors,\n",
    "       wedgeprops=dict(width=INNER_VACANT_CIRCLE_SIZE, edgecolor='w'),\n",
    "       autopct='%.2f%%', pctdistance=INNER_PCTDISTANCE)\n",
    "\n",
    "ax.set(aspect=\"equal\", title='주요 국가별 중첩 파이 그래프')\n",
    "\n",
    "cnt += 1\n",
    "savefile = CHART_NAME + UNDERBAR + str(cnt).zfill(2) + PNG\n",
    "# plt.legend(loc='best')\n",
    "plt.savefig(savefile, dpi=400)\n",
    "print(savefile + ' 파일이 저장되었습니다.')"
   ],
   "metadata": {
    "colab": {
     "base_uri": "https://localhost:8080/",
     "height": 1000
    },
    "id": "4EndmBsz9u7A",
    "outputId": "4d5670b4-42a1-4cde-be61-32ed0e0aa231",
    "pycharm": {
     "name": "#%%\n"
    }
   },
   "execution_count": null,
   "outputs": []
  },
  {
   "cell_type": "code",
   "execution_count": null,
   "outputs": [],
   "source": [],
   "metadata": {
    "collapsed": false,
    "pycharm": {
     "name": "#%%\n"
    }
   }
  }
 ],
 "metadata": {
  "kernelspec": {
   "display_name": "Python 3",
   "language": "python",
   "name": "python3"
  },
  "language_info": {
   "codemirror_mode": {
    "name": "ipython",
    "version": 3
   },
   "file_extension": ".py",
   "mimetype": "text/x-python",
   "name": "python",
   "nbconvert_exporter": "python",
   "pygments_lexer": "ipython3",
   "version": "3.8.2"
  },
  "colab": {
   "provenance": []
  }
 },
 "nbformat": 4,
 "nbformat_minor": 0
}