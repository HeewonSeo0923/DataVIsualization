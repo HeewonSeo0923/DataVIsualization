{
 "nbformat": 4,
 "nbformat_minor": 0,
 "metadata": {
  "colab": {
   "provenance": []
  },
  "kernelspec": {
   "name": "python3",
   "display_name": "Python 3"
  },
  "language_info": {
   "name": "python"
  }
 },
 "cells": [
  {
   "cell_type": "markdown",
   "source": [
    "# 데이터 시각화 4주차 실습 - 데이터 결측치 처리하기"
   ],
   "metadata": {
    "id": "LBtN6ndml2nI",
    "pycharm": {
     "name": "#%% md\n"
    }
   }
  },
  {
   "cell_type": "markdown",
   "source": [
    "# 데이터 분석 준비"
   ],
   "metadata": {
    "id": "Fh5VtyR3l44r",
    "pycharm": {
     "name": "#%% md\n"
    }
   }
  },
  {
   "cell_type": "code",
   "execution_count": 7,
   "metadata": {
    "id": "GI2rBWrek-IN",
    "pycharm": {
     "name": "#%%\n"
    }
   },
   "outputs": [],
   "source": [
    "# 관련 라이브러리 불러오기\n",
    "import pandas as pd           #판다스\n",
    "import matplotlib as mpl       #맷플롭립\n",
    "import matplotlib.pylab as plt   #맷플롭립\n",
    "import seaborn as sns          #시본 \n",
    "import numpy as np           #넘파이"
   ]
  },
  {
   "cell_type": "markdown",
   "source": [
    "# 데이터 불러오기 "
   ],
   "metadata": {
    "id": "1RYiosxpl-_g",
    "pycharm": {
     "name": "#%% md\n"
    }
   }
  },
  {
   "cell_type": "markdown",
   "source": [
    "## 데이터 불러오기 및 원본데이터 저장"
   ],
   "metadata": {
    "id": "_nzOrkJsp1TU",
    "pycharm": {
     "name": "#%% md\n"
    }
   }
  },
  {
   "cell_type": "code",
   "source": [
    "#타이타닉 데이터 파일경로를 찾고 변수 file_path에 저장\n",
    "file_path= '/Users/seohuiwon/Desktop/School/2023/pythonpratice/DataVIsualization/Data/지자체별문화예산정보.csv'\n",
    "\n",
    "df = pd.read_csv(file_path) #read csv()함수로 데이터프레임 변환 \n",
    "df"
   ],
   "metadata": {
    "colab": {
     "base_uri": "https://localhost:8080/",
     "height": 488
    },
    "id": "ebdLDGB6l7xI",
    "outputId": "ad429d20-2d22-4213-f542-5136d3d62aa4",
    "pycharm": {
     "name": "#%%\n"
    }
   },
   "execution_count": 8,
   "outputs": [
    {
     "data": {
      "text/plain": "      SEQ_NO  FINAN_YEAR  ADMNSTMACH_CD ADMNSTMACH_NM  \\\n0          1        2016     1100000000         서울특별시   \n1          2        2016     1111000000     서울특별시 종로구   \n2          3        2016     1114000000      서울특별시 중구   \n3          4        2016     1117000000     서울특별시 용산구   \n4          5        2016     1120000000     서울특별시 성동구   \n...      ...         ...            ...           ...   \n1699    1700        2022     4886000000      경상남도 산청군   \n1700    1701        2022     4887000000      경상남도 함양군   \n1701    1702        2022     4888000000      경상남도 거창군   \n1702    1703        2022     4889000000      경상남도 합천군   \n1703    1704        2022     5000000000       제주특별자치도   \n\n      TOT_ANEXPTR_BUDGET_PRICE  BEFORE_YEAR_ANEXPTR_BUDGET_PRICE  \\\n0                 2.927279e+13                      2.665722e+13   \n1                 4.323427e+11                      4.126964e+11   \n2                 4.145856e+11                      3.621207e+11   \n3                 3.669454e+11                      3.428220e+11   \n4                 4.167871e+11                      3.916280e+11   \n...                        ...                               ...   \n1699              6.410598e+11                      5.119109e+11   \n1700              5.755567e+11                      5.369389e+11   \n1701              8.519056e+11                      8.299435e+11   \n1702              7.510036e+11                      6.765212e+11   \n1703              7.092805e+12                      6.499212e+12   \n\n      ANEXPTR_BUDGET_IRDS_RT  CLTUR_TURSM_BUDGET_PRICE  \\\n0                       9.81              5.632196e+10   \n1                       4.76              3.850000e+08   \n2                      14.49              1.384890e+08   \n3                       7.04              2.170000e+07   \n4                       6.42              4.600000e+07   \n...                      ...                       ...   \n1699                   25.23              3.140200e+09   \n1700                    7.19              6.944940e+08   \n1701                    2.65              3.005200e+08   \n1702                   11.01              2.369050e+09   \n1703                    9.13              1.851360e+10   \n\n      BEFORE_YEAR_CLTUR_TURSM_BUDGET_PRICE  CLTUR_TURSM_BUDGET_IRDS_RT  \\\n0                             4.073831e+10                       38.25   \n1                             4.800000e+07                      702.08   \n2                             2.006800e+07                      590.10   \n3                             2.170000e+07                        0.00   \n4                             4.600000e+07                        0.00   \n...                                    ...                         ...   \n1699                          3.014622e+09                        4.17   \n1700                          9.706260e+08                      -28.45   \n1701                          2.485440e+08                       20.91   \n1702                          1.993230e+09                       18.85   \n1703                          1.746706e+10                        5.99   \n\n      CLTUR_TURSM_BUDGET_RATE  TOT_POPLTN_CO  \\\n0                        0.19        9857426   \n1                        0.09         152737   \n2                        0.03         125249   \n3                        0.01         230241   \n4                        0.01         299259   \n...                       ...            ...   \n1699                     0.49          36098   \n1700                     0.12          40241   \n1701                     0.04          63308   \n1702                     0.32          48026   \n1703                     0.26         641597   \n\n      ONE_PSNBY_CLTUR_TURSM_BUDGET_PRICE  \n0                                 5714.0  \n1                                 2521.0  \n2                                 1106.0  \n3                                   94.0  \n4                                  154.0  \n...                                  ...  \n1699                             86991.0  \n1700                             17258.0  \n1701                              4747.0  \n1702                             49328.0  \n1703                             28855.0  \n\n[1704 rows x 13 columns]",
      "text/html": "<div>\n<style scoped>\n    .dataframe tbody tr th:only-of-type {\n        vertical-align: middle;\n    }\n\n    .dataframe tbody tr th {\n        vertical-align: top;\n    }\n\n    .dataframe thead th {\n        text-align: right;\n    }\n</style>\n<table border=\"1\" class=\"dataframe\">\n  <thead>\n    <tr style=\"text-align: right;\">\n      <th></th>\n      <th>SEQ_NO</th>\n      <th>FINAN_YEAR</th>\n      <th>ADMNSTMACH_CD</th>\n      <th>ADMNSTMACH_NM</th>\n      <th>TOT_ANEXPTR_BUDGET_PRICE</th>\n      <th>BEFORE_YEAR_ANEXPTR_BUDGET_PRICE</th>\n      <th>ANEXPTR_BUDGET_IRDS_RT</th>\n      <th>CLTUR_TURSM_BUDGET_PRICE</th>\n      <th>BEFORE_YEAR_CLTUR_TURSM_BUDGET_PRICE</th>\n      <th>CLTUR_TURSM_BUDGET_IRDS_RT</th>\n      <th>CLTUR_TURSM_BUDGET_RATE</th>\n      <th>TOT_POPLTN_CO</th>\n      <th>ONE_PSNBY_CLTUR_TURSM_BUDGET_PRICE</th>\n    </tr>\n  </thead>\n  <tbody>\n    <tr>\n      <th>0</th>\n      <td>1</td>\n      <td>2016</td>\n      <td>1100000000</td>\n      <td>서울특별시</td>\n      <td>2.927279e+13</td>\n      <td>2.665722e+13</td>\n      <td>9.81</td>\n      <td>5.632196e+10</td>\n      <td>4.073831e+10</td>\n      <td>38.25</td>\n      <td>0.19</td>\n      <td>9857426</td>\n      <td>5714.0</td>\n    </tr>\n    <tr>\n      <th>1</th>\n      <td>2</td>\n      <td>2016</td>\n      <td>1111000000</td>\n      <td>서울특별시 종로구</td>\n      <td>4.323427e+11</td>\n      <td>4.126964e+11</td>\n      <td>4.76</td>\n      <td>3.850000e+08</td>\n      <td>4.800000e+07</td>\n      <td>702.08</td>\n      <td>0.09</td>\n      <td>152737</td>\n      <td>2521.0</td>\n    </tr>\n    <tr>\n      <th>2</th>\n      <td>3</td>\n      <td>2016</td>\n      <td>1114000000</td>\n      <td>서울특별시 중구</td>\n      <td>4.145856e+11</td>\n      <td>3.621207e+11</td>\n      <td>14.49</td>\n      <td>1.384890e+08</td>\n      <td>2.006800e+07</td>\n      <td>590.10</td>\n      <td>0.03</td>\n      <td>125249</td>\n      <td>1106.0</td>\n    </tr>\n    <tr>\n      <th>3</th>\n      <td>4</td>\n      <td>2016</td>\n      <td>1117000000</td>\n      <td>서울특별시 용산구</td>\n      <td>3.669454e+11</td>\n      <td>3.428220e+11</td>\n      <td>7.04</td>\n      <td>2.170000e+07</td>\n      <td>2.170000e+07</td>\n      <td>0.00</td>\n      <td>0.01</td>\n      <td>230241</td>\n      <td>94.0</td>\n    </tr>\n    <tr>\n      <th>4</th>\n      <td>5</td>\n      <td>2016</td>\n      <td>1120000000</td>\n      <td>서울특별시 성동구</td>\n      <td>4.167871e+11</td>\n      <td>3.916280e+11</td>\n      <td>6.42</td>\n      <td>4.600000e+07</td>\n      <td>4.600000e+07</td>\n      <td>0.00</td>\n      <td>0.01</td>\n      <td>299259</td>\n      <td>154.0</td>\n    </tr>\n    <tr>\n      <th>...</th>\n      <td>...</td>\n      <td>...</td>\n      <td>...</td>\n      <td>...</td>\n      <td>...</td>\n      <td>...</td>\n      <td>...</td>\n      <td>...</td>\n      <td>...</td>\n      <td>...</td>\n      <td>...</td>\n      <td>...</td>\n      <td>...</td>\n    </tr>\n    <tr>\n      <th>1699</th>\n      <td>1700</td>\n      <td>2022</td>\n      <td>4886000000</td>\n      <td>경상남도 산청군</td>\n      <td>6.410598e+11</td>\n      <td>5.119109e+11</td>\n      <td>25.23</td>\n      <td>3.140200e+09</td>\n      <td>3.014622e+09</td>\n      <td>4.17</td>\n      <td>0.49</td>\n      <td>36098</td>\n      <td>86991.0</td>\n    </tr>\n    <tr>\n      <th>1700</th>\n      <td>1701</td>\n      <td>2022</td>\n      <td>4887000000</td>\n      <td>경상남도 함양군</td>\n      <td>5.755567e+11</td>\n      <td>5.369389e+11</td>\n      <td>7.19</td>\n      <td>6.944940e+08</td>\n      <td>9.706260e+08</td>\n      <td>-28.45</td>\n      <td>0.12</td>\n      <td>40241</td>\n      <td>17258.0</td>\n    </tr>\n    <tr>\n      <th>1701</th>\n      <td>1702</td>\n      <td>2022</td>\n      <td>4888000000</td>\n      <td>경상남도 거창군</td>\n      <td>8.519056e+11</td>\n      <td>8.299435e+11</td>\n      <td>2.65</td>\n      <td>3.005200e+08</td>\n      <td>2.485440e+08</td>\n      <td>20.91</td>\n      <td>0.04</td>\n      <td>63308</td>\n      <td>4747.0</td>\n    </tr>\n    <tr>\n      <th>1702</th>\n      <td>1703</td>\n      <td>2022</td>\n      <td>4889000000</td>\n      <td>경상남도 합천군</td>\n      <td>7.510036e+11</td>\n      <td>6.765212e+11</td>\n      <td>11.01</td>\n      <td>2.369050e+09</td>\n      <td>1.993230e+09</td>\n      <td>18.85</td>\n      <td>0.32</td>\n      <td>48026</td>\n      <td>49328.0</td>\n    </tr>\n    <tr>\n      <th>1703</th>\n      <td>1704</td>\n      <td>2022</td>\n      <td>5000000000</td>\n      <td>제주특별자치도</td>\n      <td>7.092805e+12</td>\n      <td>6.499212e+12</td>\n      <td>9.13</td>\n      <td>1.851360e+10</td>\n      <td>1.746706e+10</td>\n      <td>5.99</td>\n      <td>0.26</td>\n      <td>641597</td>\n      <td>28855.0</td>\n    </tr>\n  </tbody>\n</table>\n<p>1704 rows × 13 columns</p>\n</div>"
     },
     "execution_count": 8,
     "metadata": {},
     "output_type": "execute_result"
    }
   ]
  },
  {
   "cell_type": "code",
   "source": [
    "column = pd.read_excel('/Users/seohuiwon/Desktop/School/2023/pythonpratice/DataVIsualization/Data/지자체별문화예산정보컬럼정의.xls')"
   ],
   "metadata": {
    "id": "t51i6I8qmQjX",
    "pycharm": {
     "name": "#%%\n"
    }
   },
   "execution_count": 9,
   "outputs": []
  },
  {
   "cell_type": "code",
   "source": [
    "column"
   ],
   "metadata": {
    "colab": {
     "base_uri": "https://localhost:8080/",
     "height": 536
    },
    "id": "26oF78-rml_e",
    "outputId": "3098cb9c-e0d2-40cb-a14e-cdaa5861e2c8",
    "pycharm": {
     "name": "#%%\n"
    }
   },
   "execution_count": 10,
   "outputs": [
    {
     "data": {
      "text/plain": "    순서                                 컬럼영문명         컬럼한글명    데이터타입    길이  \\\n0    1                                SEQ_NO          일련번호  DECIMAL    30   \n1    2                            FINAN_YEAR          회계년도  VARCHAR     4   \n2    3                         ADMNSTMACH_CD        행정기관코드  VARCHAR    30   \n3    4                         ADMNSTMACH_NM         행정기관명  VARCHAR   200   \n4    5              TOT_ANEXPTR_BUDGET_PRICE       총세출예산금액  DECIMAL  28,5   \n5    6      BEFORE_YEAR_ANEXPTR_BUDGET_PRICE    이전년도세출예산금액  DECIMAL  28,5   \n6    7                ANEXPTR_BUDGET_IRDS_RT       세출예산증감율  DECIMAL  28,5   \n7    8              CLTUR_TURSM_BUDGET_PRICE      문화관광예산금액  DECIMAL  28,5   \n8    9  BEFORE_YEAR_CLTUR_TURSM_BUDGET_PRICE  이전년도문화관광예산금액  DECIMAL  28,5   \n9   10            CLTUR_TURSM_BUDGET_IRDS_RT     문화관광예산증감율  DECIMAL  28,5   \n10  11               CLTUR_TURSM_BUDGET_RATE      문화관광예산비율  DECIMAL  28,5   \n11  12                         TOT_POPLTN_CO          총인구수  DECIMAL    38   \n12  13    ONE_PSNBY_CLTUR_TURSM_BUDGET_PRICE   1인당문화관광예산금액  DECIMAL  28,5   \n\n   PK여부 NOT NULL여부  \n0     Y          Y  \n1     N          N  \n2     N          N  \n3     N          N  \n4     N          N  \n5     N          N  \n6     N          N  \n7     N          N  \n8     N          N  \n9     N          N  \n10    N          N  \n11    N          N  \n12    N          N  ",
      "text/html": "<div>\n<style scoped>\n    .dataframe tbody tr th:only-of-type {\n        vertical-align: middle;\n    }\n\n    .dataframe tbody tr th {\n        vertical-align: top;\n    }\n\n    .dataframe thead th {\n        text-align: right;\n    }\n</style>\n<table border=\"1\" class=\"dataframe\">\n  <thead>\n    <tr style=\"text-align: right;\">\n      <th></th>\n      <th>순서</th>\n      <th>컬럼영문명</th>\n      <th>컬럼한글명</th>\n      <th>데이터타입</th>\n      <th>길이</th>\n      <th>PK여부</th>\n      <th>NOT NULL여부</th>\n    </tr>\n  </thead>\n  <tbody>\n    <tr>\n      <th>0</th>\n      <td>1</td>\n      <td>SEQ_NO</td>\n      <td>일련번호</td>\n      <td>DECIMAL</td>\n      <td>30</td>\n      <td>Y</td>\n      <td>Y</td>\n    </tr>\n    <tr>\n      <th>1</th>\n      <td>2</td>\n      <td>FINAN_YEAR</td>\n      <td>회계년도</td>\n      <td>VARCHAR</td>\n      <td>4</td>\n      <td>N</td>\n      <td>N</td>\n    </tr>\n    <tr>\n      <th>2</th>\n      <td>3</td>\n      <td>ADMNSTMACH_CD</td>\n      <td>행정기관코드</td>\n      <td>VARCHAR</td>\n      <td>30</td>\n      <td>N</td>\n      <td>N</td>\n    </tr>\n    <tr>\n      <th>3</th>\n      <td>4</td>\n      <td>ADMNSTMACH_NM</td>\n      <td>행정기관명</td>\n      <td>VARCHAR</td>\n      <td>200</td>\n      <td>N</td>\n      <td>N</td>\n    </tr>\n    <tr>\n      <th>4</th>\n      <td>5</td>\n      <td>TOT_ANEXPTR_BUDGET_PRICE</td>\n      <td>총세출예산금액</td>\n      <td>DECIMAL</td>\n      <td>28,5</td>\n      <td>N</td>\n      <td>N</td>\n    </tr>\n    <tr>\n      <th>5</th>\n      <td>6</td>\n      <td>BEFORE_YEAR_ANEXPTR_BUDGET_PRICE</td>\n      <td>이전년도세출예산금액</td>\n      <td>DECIMAL</td>\n      <td>28,5</td>\n      <td>N</td>\n      <td>N</td>\n    </tr>\n    <tr>\n      <th>6</th>\n      <td>7</td>\n      <td>ANEXPTR_BUDGET_IRDS_RT</td>\n      <td>세출예산증감율</td>\n      <td>DECIMAL</td>\n      <td>28,5</td>\n      <td>N</td>\n      <td>N</td>\n    </tr>\n    <tr>\n      <th>7</th>\n      <td>8</td>\n      <td>CLTUR_TURSM_BUDGET_PRICE</td>\n      <td>문화관광예산금액</td>\n      <td>DECIMAL</td>\n      <td>28,5</td>\n      <td>N</td>\n      <td>N</td>\n    </tr>\n    <tr>\n      <th>8</th>\n      <td>9</td>\n      <td>BEFORE_YEAR_CLTUR_TURSM_BUDGET_PRICE</td>\n      <td>이전년도문화관광예산금액</td>\n      <td>DECIMAL</td>\n      <td>28,5</td>\n      <td>N</td>\n      <td>N</td>\n    </tr>\n    <tr>\n      <th>9</th>\n      <td>10</td>\n      <td>CLTUR_TURSM_BUDGET_IRDS_RT</td>\n      <td>문화관광예산증감율</td>\n      <td>DECIMAL</td>\n      <td>28,5</td>\n      <td>N</td>\n      <td>N</td>\n    </tr>\n    <tr>\n      <th>10</th>\n      <td>11</td>\n      <td>CLTUR_TURSM_BUDGET_RATE</td>\n      <td>문화관광예산비율</td>\n      <td>DECIMAL</td>\n      <td>28,5</td>\n      <td>N</td>\n      <td>N</td>\n    </tr>\n    <tr>\n      <th>11</th>\n      <td>12</td>\n      <td>TOT_POPLTN_CO</td>\n      <td>총인구수</td>\n      <td>DECIMAL</td>\n      <td>38</td>\n      <td>N</td>\n      <td>N</td>\n    </tr>\n    <tr>\n      <th>12</th>\n      <td>13</td>\n      <td>ONE_PSNBY_CLTUR_TURSM_BUDGET_PRICE</td>\n      <td>1인당문화관광예산금액</td>\n      <td>DECIMAL</td>\n      <td>28,5</td>\n      <td>N</td>\n      <td>N</td>\n    </tr>\n  </tbody>\n</table>\n</div>"
     },
     "execution_count": 10,
     "metadata": {},
     "output_type": "execute_result"
    }
   ]
  },
  {
   "cell_type": "code",
   "source": [
    "# 컬럼 한글명으로 교체\n",
    "df.columns = column['컬럼한글명']"
   ],
   "metadata": {
    "id": "M7Toz8qUmmsz",
    "pycharm": {
     "name": "#%%\n"
    }
   },
   "execution_count": 11,
   "outputs": []
  },
  {
   "cell_type": "code",
   "source": [
    "df"
   ],
   "metadata": {
    "colab": {
     "base_uri": "https://localhost:8080/",
     "height": 1000
    },
    "id": "RJdmY9FNmzFY",
    "outputId": "5028649c-da8e-4e10-f9a3-190dfe17459f",
    "pycharm": {
     "name": "#%%\n"
    }
   },
   "execution_count": 12,
   "outputs": [
    {
     "data": {
      "text/plain": "컬럼한글명  일련번호  회계년도      행정기관코드      행정기관명       총세출예산금액    이전년도세출예산금액  세출예산증감율  \\\n0         1  2016  1100000000      서울특별시  2.927279e+13  2.665722e+13     9.81   \n1         2  2016  1111000000  서울특별시 종로구  4.323427e+11  4.126964e+11     4.76   \n2         3  2016  1114000000   서울특별시 중구  4.145856e+11  3.621207e+11    14.49   \n3         4  2016  1117000000  서울특별시 용산구  3.669454e+11  3.428220e+11     7.04   \n4         5  2016  1120000000  서울특별시 성동구  4.167871e+11  3.916280e+11     6.42   \n...     ...   ...         ...        ...           ...           ...      ...   \n1699   1700  2022  4886000000   경상남도 산청군  6.410598e+11  5.119109e+11    25.23   \n1700   1701  2022  4887000000   경상남도 함양군  5.755567e+11  5.369389e+11     7.19   \n1701   1702  2022  4888000000   경상남도 거창군  8.519056e+11  8.299435e+11     2.65   \n1702   1703  2022  4889000000   경상남도 합천군  7.510036e+11  6.765212e+11    11.01   \n1703   1704  2022  5000000000    제주특별자치도  7.092805e+12  6.499212e+12     9.13   \n\n컬럼한글명      문화관광예산금액  이전년도문화관광예산금액  문화관광예산증감율  문화관광예산비율     총인구수  1인당문화관광예산금액  \n0      5.632196e+10  4.073831e+10      38.25      0.19  9857426       5714.0  \n1      3.850000e+08  4.800000e+07     702.08      0.09   152737       2521.0  \n2      1.384890e+08  2.006800e+07     590.10      0.03   125249       1106.0  \n3      2.170000e+07  2.170000e+07       0.00      0.01   230241         94.0  \n4      4.600000e+07  4.600000e+07       0.00      0.01   299259        154.0  \n...             ...           ...        ...       ...      ...          ...  \n1699   3.140200e+09  3.014622e+09       4.17      0.49    36098      86991.0  \n1700   6.944940e+08  9.706260e+08     -28.45      0.12    40241      17258.0  \n1701   3.005200e+08  2.485440e+08      20.91      0.04    63308       4747.0  \n1702   2.369050e+09  1.993230e+09      18.85      0.32    48026      49328.0  \n1703   1.851360e+10  1.746706e+10       5.99      0.26   641597      28855.0  \n\n[1704 rows x 13 columns]",
      "text/html": "<div>\n<style scoped>\n    .dataframe tbody tr th:only-of-type {\n        vertical-align: middle;\n    }\n\n    .dataframe tbody tr th {\n        vertical-align: top;\n    }\n\n    .dataframe thead th {\n        text-align: right;\n    }\n</style>\n<table border=\"1\" class=\"dataframe\">\n  <thead>\n    <tr style=\"text-align: right;\">\n      <th>컬럼한글명</th>\n      <th>일련번호</th>\n      <th>회계년도</th>\n      <th>행정기관코드</th>\n      <th>행정기관명</th>\n      <th>총세출예산금액</th>\n      <th>이전년도세출예산금액</th>\n      <th>세출예산증감율</th>\n      <th>문화관광예산금액</th>\n      <th>이전년도문화관광예산금액</th>\n      <th>문화관광예산증감율</th>\n      <th>문화관광예산비율</th>\n      <th>총인구수</th>\n      <th>1인당문화관광예산금액</th>\n    </tr>\n  </thead>\n  <tbody>\n    <tr>\n      <th>0</th>\n      <td>1</td>\n      <td>2016</td>\n      <td>1100000000</td>\n      <td>서울특별시</td>\n      <td>2.927279e+13</td>\n      <td>2.665722e+13</td>\n      <td>9.81</td>\n      <td>5.632196e+10</td>\n      <td>4.073831e+10</td>\n      <td>38.25</td>\n      <td>0.19</td>\n      <td>9857426</td>\n      <td>5714.0</td>\n    </tr>\n    <tr>\n      <th>1</th>\n      <td>2</td>\n      <td>2016</td>\n      <td>1111000000</td>\n      <td>서울특별시 종로구</td>\n      <td>4.323427e+11</td>\n      <td>4.126964e+11</td>\n      <td>4.76</td>\n      <td>3.850000e+08</td>\n      <td>4.800000e+07</td>\n      <td>702.08</td>\n      <td>0.09</td>\n      <td>152737</td>\n      <td>2521.0</td>\n    </tr>\n    <tr>\n      <th>2</th>\n      <td>3</td>\n      <td>2016</td>\n      <td>1114000000</td>\n      <td>서울특별시 중구</td>\n      <td>4.145856e+11</td>\n      <td>3.621207e+11</td>\n      <td>14.49</td>\n      <td>1.384890e+08</td>\n      <td>2.006800e+07</td>\n      <td>590.10</td>\n      <td>0.03</td>\n      <td>125249</td>\n      <td>1106.0</td>\n    </tr>\n    <tr>\n      <th>3</th>\n      <td>4</td>\n      <td>2016</td>\n      <td>1117000000</td>\n      <td>서울특별시 용산구</td>\n      <td>3.669454e+11</td>\n      <td>3.428220e+11</td>\n      <td>7.04</td>\n      <td>2.170000e+07</td>\n      <td>2.170000e+07</td>\n      <td>0.00</td>\n      <td>0.01</td>\n      <td>230241</td>\n      <td>94.0</td>\n    </tr>\n    <tr>\n      <th>4</th>\n      <td>5</td>\n      <td>2016</td>\n      <td>1120000000</td>\n      <td>서울특별시 성동구</td>\n      <td>4.167871e+11</td>\n      <td>3.916280e+11</td>\n      <td>6.42</td>\n      <td>4.600000e+07</td>\n      <td>4.600000e+07</td>\n      <td>0.00</td>\n      <td>0.01</td>\n      <td>299259</td>\n      <td>154.0</td>\n    </tr>\n    <tr>\n      <th>...</th>\n      <td>...</td>\n      <td>...</td>\n      <td>...</td>\n      <td>...</td>\n      <td>...</td>\n      <td>...</td>\n      <td>...</td>\n      <td>...</td>\n      <td>...</td>\n      <td>...</td>\n      <td>...</td>\n      <td>...</td>\n      <td>...</td>\n    </tr>\n    <tr>\n      <th>1699</th>\n      <td>1700</td>\n      <td>2022</td>\n      <td>4886000000</td>\n      <td>경상남도 산청군</td>\n      <td>6.410598e+11</td>\n      <td>5.119109e+11</td>\n      <td>25.23</td>\n      <td>3.140200e+09</td>\n      <td>3.014622e+09</td>\n      <td>4.17</td>\n      <td>0.49</td>\n      <td>36098</td>\n      <td>86991.0</td>\n    </tr>\n    <tr>\n      <th>1700</th>\n      <td>1701</td>\n      <td>2022</td>\n      <td>4887000000</td>\n      <td>경상남도 함양군</td>\n      <td>5.755567e+11</td>\n      <td>5.369389e+11</td>\n      <td>7.19</td>\n      <td>6.944940e+08</td>\n      <td>9.706260e+08</td>\n      <td>-28.45</td>\n      <td>0.12</td>\n      <td>40241</td>\n      <td>17258.0</td>\n    </tr>\n    <tr>\n      <th>1701</th>\n      <td>1702</td>\n      <td>2022</td>\n      <td>4888000000</td>\n      <td>경상남도 거창군</td>\n      <td>8.519056e+11</td>\n      <td>8.299435e+11</td>\n      <td>2.65</td>\n      <td>3.005200e+08</td>\n      <td>2.485440e+08</td>\n      <td>20.91</td>\n      <td>0.04</td>\n      <td>63308</td>\n      <td>4747.0</td>\n    </tr>\n    <tr>\n      <th>1702</th>\n      <td>1703</td>\n      <td>2022</td>\n      <td>4889000000</td>\n      <td>경상남도 합천군</td>\n      <td>7.510036e+11</td>\n      <td>6.765212e+11</td>\n      <td>11.01</td>\n      <td>2.369050e+09</td>\n      <td>1.993230e+09</td>\n      <td>18.85</td>\n      <td>0.32</td>\n      <td>48026</td>\n      <td>49328.0</td>\n    </tr>\n    <tr>\n      <th>1703</th>\n      <td>1704</td>\n      <td>2022</td>\n      <td>5000000000</td>\n      <td>제주특별자치도</td>\n      <td>7.092805e+12</td>\n      <td>6.499212e+12</td>\n      <td>9.13</td>\n      <td>1.851360e+10</td>\n      <td>1.746706e+10</td>\n      <td>5.99</td>\n      <td>0.26</td>\n      <td>641597</td>\n      <td>28855.0</td>\n    </tr>\n  </tbody>\n</table>\n<p>1704 rows × 13 columns</p>\n</div>"
     },
     "execution_count": 12,
     "metadata": {},
     "output_type": "execute_result"
    }
   ]
  },
  {
   "cell_type": "code",
   "source": [
    "# 결측치 확인\n",
    "df.info()"
   ],
   "metadata": {
    "colab": {
     "base_uri": "https://localhost:8080/"
    },
    "id": "J0dabVG_mz85",
    "outputId": "0281730c-9089-446e-fbb3-d1311f085b70",
    "pycharm": {
     "name": "#%%\n"
    }
   },
   "execution_count": 13,
   "outputs": [
    {
     "name": "stdout",
     "output_type": "stream",
     "text": [
      "<class 'pandas.core.frame.DataFrame'>\n",
      "RangeIndex: 1704 entries, 0 to 1703\n",
      "Data columns (total 13 columns):\n",
      " #   Column        Non-Null Count  Dtype  \n",
      "---  ------        --------------  -----  \n",
      " 0   일련번호          1704 non-null   int64  \n",
      " 1   회계년도          1704 non-null   int64  \n",
      " 2   행정기관코드        1704 non-null   int64  \n",
      " 3   행정기관명         1704 non-null   object \n",
      " 4   총세출예산금액       1701 non-null   float64\n",
      " 5   이전년도세출예산금액    1701 non-null   float64\n",
      " 6   세출예산증감율       1701 non-null   float64\n",
      " 7   문화관광예산금액      1701 non-null   float64\n",
      " 8   이전년도문화관광예산금액  1701 non-null   float64\n",
      " 9   문화관광예산증감율     1647 non-null   float64\n",
      " 10  문화관광예산비율      1701 non-null   float64\n",
      " 11  총인구수          1704 non-null   int64  \n",
      " 12  1인당문화관광예산금액   1701 non-null   float64\n",
      "dtypes: float64(8), int64(4), object(1)\n",
      "memory usage: 173.2+ KB\n"
     ]
    }
   ]
  },
  {
   "cell_type": "code",
   "source": [
    "df_raw = df"
   ],
   "metadata": {
    "id": "Rt0L4u53nAuP",
    "pycharm": {
     "name": "#%%\n"
    }
   },
   "execution_count": 14,
   "outputs": []
  },
  {
   "cell_type": "markdown",
   "source": [
    "## 결측치 확인하기"
   ],
   "metadata": {
    "id": "V5I2vyTSpzff",
    "pycharm": {
     "name": "#%% md\n"
    }
   }
  },
  {
   "cell_type": "code",
   "source": [
    "df.isnull()"
   ],
   "metadata": {
    "colab": {
     "base_uri": "https://localhost:8080/",
     "height": 502
    },
    "id": "0GsRTeuGpfer",
    "outputId": "2e499116-66d0-43ba-e2cf-9cab863bb46f",
    "pycharm": {
     "name": "#%%\n"
    }
   },
   "execution_count": 15,
   "outputs": [
    {
     "data": {
      "text/plain": "컬럼한글명   일련번호   회계년도  행정기관코드  행정기관명  총세출예산금액  이전년도세출예산금액  세출예산증감율  문화관광예산금액  \\\n0      False  False   False  False    False       False    False     False   \n1      False  False   False  False    False       False    False     False   \n2      False  False   False  False    False       False    False     False   \n3      False  False   False  False    False       False    False     False   \n4      False  False   False  False    False       False    False     False   \n...      ...    ...     ...    ...      ...         ...      ...       ...   \n1699   False  False   False  False    False       False    False     False   \n1700   False  False   False  False    False       False    False     False   \n1701   False  False   False  False    False       False    False     False   \n1702   False  False   False  False    False       False    False     False   \n1703   False  False   False  False    False       False    False     False   \n\n컬럼한글명  이전년도문화관광예산금액  문화관광예산증감율  문화관광예산비율   총인구수  1인당문화관광예산금액  \n0             False      False     False  False        False  \n1             False      False     False  False        False  \n2             False      False     False  False        False  \n3             False      False     False  False        False  \n4             False      False     False  False        False  \n...             ...        ...       ...    ...          ...  \n1699          False      False     False  False        False  \n1700          False      False     False  False        False  \n1701          False      False     False  False        False  \n1702          False      False     False  False        False  \n1703          False      False     False  False        False  \n\n[1704 rows x 13 columns]",
      "text/html": "<div>\n<style scoped>\n    .dataframe tbody tr th:only-of-type {\n        vertical-align: middle;\n    }\n\n    .dataframe tbody tr th {\n        vertical-align: top;\n    }\n\n    .dataframe thead th {\n        text-align: right;\n    }\n</style>\n<table border=\"1\" class=\"dataframe\">\n  <thead>\n    <tr style=\"text-align: right;\">\n      <th>컬럼한글명</th>\n      <th>일련번호</th>\n      <th>회계년도</th>\n      <th>행정기관코드</th>\n      <th>행정기관명</th>\n      <th>총세출예산금액</th>\n      <th>이전년도세출예산금액</th>\n      <th>세출예산증감율</th>\n      <th>문화관광예산금액</th>\n      <th>이전년도문화관광예산금액</th>\n      <th>문화관광예산증감율</th>\n      <th>문화관광예산비율</th>\n      <th>총인구수</th>\n      <th>1인당문화관광예산금액</th>\n    </tr>\n  </thead>\n  <tbody>\n    <tr>\n      <th>0</th>\n      <td>False</td>\n      <td>False</td>\n      <td>False</td>\n      <td>False</td>\n      <td>False</td>\n      <td>False</td>\n      <td>False</td>\n      <td>False</td>\n      <td>False</td>\n      <td>False</td>\n      <td>False</td>\n      <td>False</td>\n      <td>False</td>\n    </tr>\n    <tr>\n      <th>1</th>\n      <td>False</td>\n      <td>False</td>\n      <td>False</td>\n      <td>False</td>\n      <td>False</td>\n      <td>False</td>\n      <td>False</td>\n      <td>False</td>\n      <td>False</td>\n      <td>False</td>\n      <td>False</td>\n      <td>False</td>\n      <td>False</td>\n    </tr>\n    <tr>\n      <th>2</th>\n      <td>False</td>\n      <td>False</td>\n      <td>False</td>\n      <td>False</td>\n      <td>False</td>\n      <td>False</td>\n      <td>False</td>\n      <td>False</td>\n      <td>False</td>\n      <td>False</td>\n      <td>False</td>\n      <td>False</td>\n      <td>False</td>\n    </tr>\n    <tr>\n      <th>3</th>\n      <td>False</td>\n      <td>False</td>\n      <td>False</td>\n      <td>False</td>\n      <td>False</td>\n      <td>False</td>\n      <td>False</td>\n      <td>False</td>\n      <td>False</td>\n      <td>False</td>\n      <td>False</td>\n      <td>False</td>\n      <td>False</td>\n    </tr>\n    <tr>\n      <th>4</th>\n      <td>False</td>\n      <td>False</td>\n      <td>False</td>\n      <td>False</td>\n      <td>False</td>\n      <td>False</td>\n      <td>False</td>\n      <td>False</td>\n      <td>False</td>\n      <td>False</td>\n      <td>False</td>\n      <td>False</td>\n      <td>False</td>\n    </tr>\n    <tr>\n      <th>...</th>\n      <td>...</td>\n      <td>...</td>\n      <td>...</td>\n      <td>...</td>\n      <td>...</td>\n      <td>...</td>\n      <td>...</td>\n      <td>...</td>\n      <td>...</td>\n      <td>...</td>\n      <td>...</td>\n      <td>...</td>\n      <td>...</td>\n    </tr>\n    <tr>\n      <th>1699</th>\n      <td>False</td>\n      <td>False</td>\n      <td>False</td>\n      <td>False</td>\n      <td>False</td>\n      <td>False</td>\n      <td>False</td>\n      <td>False</td>\n      <td>False</td>\n      <td>False</td>\n      <td>False</td>\n      <td>False</td>\n      <td>False</td>\n    </tr>\n    <tr>\n      <th>1700</th>\n      <td>False</td>\n      <td>False</td>\n      <td>False</td>\n      <td>False</td>\n      <td>False</td>\n      <td>False</td>\n      <td>False</td>\n      <td>False</td>\n      <td>False</td>\n      <td>False</td>\n      <td>False</td>\n      <td>False</td>\n      <td>False</td>\n    </tr>\n    <tr>\n      <th>1701</th>\n      <td>False</td>\n      <td>False</td>\n      <td>False</td>\n      <td>False</td>\n      <td>False</td>\n      <td>False</td>\n      <td>False</td>\n      <td>False</td>\n      <td>False</td>\n      <td>False</td>\n      <td>False</td>\n      <td>False</td>\n      <td>False</td>\n    </tr>\n    <tr>\n      <th>1702</th>\n      <td>False</td>\n      <td>False</td>\n      <td>False</td>\n      <td>False</td>\n      <td>False</td>\n      <td>False</td>\n      <td>False</td>\n      <td>False</td>\n      <td>False</td>\n      <td>False</td>\n      <td>False</td>\n      <td>False</td>\n      <td>False</td>\n    </tr>\n    <tr>\n      <th>1703</th>\n      <td>False</td>\n      <td>False</td>\n      <td>False</td>\n      <td>False</td>\n      <td>False</td>\n      <td>False</td>\n      <td>False</td>\n      <td>False</td>\n      <td>False</td>\n      <td>False</td>\n      <td>False</td>\n      <td>False</td>\n      <td>False</td>\n    </tr>\n  </tbody>\n</table>\n<p>1704 rows × 13 columns</p>\n</div>"
     },
     "execution_count": 15,
     "metadata": {},
     "output_type": "execute_result"
    }
   ]
  },
  {
   "cell_type": "code",
   "source": [
    "df.isnull().sum()"
   ],
   "metadata": {
    "colab": {
     "base_uri": "https://localhost:8080/"
    },
    "id": "8lNY2yGnpcLE",
    "outputId": "96397f73-e871-4a51-ed0f-549de63b0ede",
    "pycharm": {
     "name": "#%%\n"
    }
   },
   "execution_count": 16,
   "outputs": [
    {
     "data": {
      "text/plain": "컬럼한글명\n일련번호             0\n회계년도             0\n행정기관코드           0\n행정기관명            0\n총세출예산금액          3\n이전년도세출예산금액       3\n세출예산증감율          3\n문화관광예산금액         3\n이전년도문화관광예산금액     3\n문화관광예산증감율       57\n문화관광예산비율         3\n총인구수             0\n1인당문화관광예산금액      3\ndtype: int64"
     },
     "execution_count": 16,
     "metadata": {},
     "output_type": "execute_result"
    }
   ]
  },
  {
   "cell_type": "code",
   "source": [
    "data1 = df['총세출예산금액']\n",
    "\n",
    "plt.hist(data1, label = 'bins = 5')\n",
    "plt.legend\n",
    "plt.show()"
   ],
   "metadata": {
    "colab": {
     "base_uri": "https://localhost:8080/",
     "height": 278
    },
    "id": "7a1rLMPiqb_U",
    "outputId": "62990d3a-9f09-4250-949a-9c59740b5d5d",
    "pycharm": {
     "name": "#%%\n"
    }
   },
   "execution_count": 17,
   "outputs": [
    {
     "data": {
      "text/plain": "<Figure size 432x288 with 1 Axes>",
      "image/png": "[encoded data removed]"
     },
     "metadata": {},
     "output_type": "display_data"
    }
   ]
  },
  {
   "cell_type": "code",
   "source": [
    "df['총세출예산금액'] = df['총세출예산금액'].fillna(df['총세출예산금액'].median())"
   ],
   "metadata": {
    "id": "xwdjMQ0Ip67A",
    "pycharm": {
     "name": "#%%\n"
    }
   },
   "execution_count": 18,
   "outputs": []
  },
  {
   "cell_type": "code",
   "source": [
    "data2 = df['이전년도세출예산금액']\n",
    "\n",
    "plt.hist(data2)\n",
    "plt.legend\n",
    "plt.show()"
   ],
   "metadata": {
    "colab": {
     "base_uri": "https://localhost:8080/",
     "height": 278
    },
    "id": "OMeTN5Z6qoKt",
    "outputId": "ae7ae692-6037-4615-ed16-381924ed1b1d",
    "pycharm": {
     "name": "#%%\n"
    }
   },
   "execution_count": 19,
   "outputs": [
    {
     "data": {
      "text/plain": "<Figure size 432x288 with 1 Axes>",
      "image/png": "[encoded data removed]"
     },
     "metadata": {},
     "output_type": "display_data"
    }
   ]
  },
  {
   "cell_type": "code",
   "source": [
    "df['이전년도세출예산금액'] = df['이전년도세출예산금액'].fillna(df['이전년도세출예산금액'].median())"
   ],
   "metadata": {
    "id": "XRbguzW6qG9B",
    "pycharm": {
     "name": "#%%\n"
    }
   },
   "execution_count": 20,
   "outputs": []
  },
  {
   "cell_type": "code",
   "source": [
    "data3 = df['세출예산증감율']\n",
    "\n",
    "plt.hist(data3)\n",
    "plt.legend\n",
    "plt.show()"
   ],
   "metadata": {
    "colab": {
     "base_uri": "https://localhost:8080/",
     "height": 265
    },
    "id": "y5KCqC31rSR8",
    "outputId": "6044b749-f6b1-4f99-e3e8-c81535df440a",
    "pycharm": {
     "name": "#%%\n"
    }
   },
   "execution_count": 21,
   "outputs": [
    {
     "data": {
      "text/plain": "<Figure size 432x288 with 1 Axes>",
      "image/png": "[encoded data removed]"
     },
     "metadata": {},
     "output_type": "display_data"
    }
   ]
  },
  {
   "cell_type": "code",
   "source": [
    "df['세출예산증감율'] = df['세출예산증감율'].fillna(df['세출예산증감율'].median())"
   ],
   "metadata": {
    "id": "TsuDJPKPqRZW",
    "pycharm": {
     "name": "#%%\n"
    }
   },
   "execution_count": 22,
   "outputs": []
  },
  {
   "cell_type": "code",
   "source": [
    "data4 = df['문화관광예산금액']\n",
    "\n",
    "plt.hist(data4)\n",
    "plt.legend\n",
    "plt.show()"
   ],
   "metadata": {
    "colab": {
     "base_uri": "https://localhost:8080/",
     "height": 278
    },
    "id": "RgVZRwywqX76",
    "outputId": "02f4f35c-4d9f-46b2-a7aa-2d5a25202d29",
    "pycharm": {
     "name": "#%%\n"
    }
   },
   "execution_count": 23,
   "outputs": [
    {
     "data": {
      "text/plain": "<Figure size 432x288 with 1 Axes>",
      "image/png": "[encoded data removed]"
     },
     "metadata": {},
     "output_type": "display_data"
    }
   ]
  },
  {
   "cell_type": "code",
   "source": [
    "df['문화관광예산금액'] = df['문화관광예산금액'].fillna(df['문화관광예산금액'].median())"
   ],
   "metadata": {
    "id": "cB8I1YlRreJW",
    "pycharm": {
     "name": "#%%\n"
    }
   },
   "execution_count": 24,
   "outputs": []
  },
  {
   "cell_type": "code",
   "source": [
    "data5 = df['이전년도문화관광예산금액'] \n",
    "plt.hist(data5)\n",
    "plt.legend\n",
    "plt.show()"
   ],
   "metadata": {
    "colab": {
     "base_uri": "https://localhost:8080/",
     "height": 278
    },
    "id": "DRhNznoarmpj",
    "outputId": "2163d08a-0f42-4558-b442-cb365c4e8850",
    "pycharm": {
     "name": "#%%\n"
    }
   },
   "execution_count": 25,
   "outputs": [
    {
     "data": {
      "text/plain": "<Figure size 432x288 with 1 Axes>",
      "image/png": "[encoded data removed]"
     },
     "metadata": {},
     "output_type": "display_data"
    }
   ]
  },
  {
   "cell_type": "code",
   "source": [
    "df['이전년도문화관광예산금액'] = df['이전년도문화관광예산금액'].fillna(df['이전년도문화관광예산금액'].median())"
   ],
   "metadata": {
    "id": "yjeyv0YPrtqw",
    "pycharm": {
     "name": "#%%\n"
    }
   },
   "execution_count": 26,
   "outputs": []
  },
  {
   "cell_type": "code",
   "source": [
    "data6 = df['문화관광예산증감율']"
   ],
   "metadata": {
    "id": "_T2wt19_rsy0",
    "pycharm": {
     "name": "#%%\n"
    }
   },
   "execution_count": 27,
   "outputs": []
  },
  {
   "cell_type": "code",
   "source": [
    "data6.describe()"
   ],
   "metadata": {
    "colab": {
     "base_uri": "https://localhost:8080/"
    },
    "id": "UIkhhPFJsZg7",
    "outputId": "11ef8329-81af-415f-d57a-f2d2fa670c34",
    "pycharm": {
     "name": "#%%\n"
    }
   },
   "execution_count": 28,
   "outputs": [
    {
     "data": {
      "text/plain": "count     1647.000000\nmean       130.685149\nstd       1242.245240\nmin       -100.000000\n25%        -29.355000\n50%          8.440000\n75%         68.930000\nmax      45776.870000\nName: 문화관광예산증감율, dtype: float64"
     },
     "execution_count": 28,
     "metadata": {},
     "output_type": "execute_result"
    }
   ]
  },
  {
   "cell_type": "code",
   "source": [
    "plt.hist(data6, label = 'bins = (0, 15000, 10000)')\n",
    "plt.legend\n",
    "plt.show()"
   ],
   "metadata": {
    "colab": {
     "base_uri": "https://localhost:8080/",
     "height": 265
    },
    "id": "jv7Y01gSr60l",
    "outputId": "ee286881-462b-4662-c30d-0143cfeb0a1e",
    "pycharm": {
     "name": "#%%\n"
    }
   },
   "execution_count": 29,
   "outputs": [
    {
     "data": {
      "text/plain": "<Figure size 432x288 with 1 Axes>",
      "image/png": "[encoded data removed]"
     },
     "metadata": {},
     "output_type": "display_data"
    }
   ]
  },
  {
   "cell_type": "code",
   "source": [
    "df['문화관광예산증감율'] = df['문화관광예산증감율'].fillna(df['문화관광예산증감율'].median())"
   ],
   "metadata": {
    "id": "0M_Ssa24r_Gj",
    "pycharm": {
     "name": "#%%\n"
    }
   },
   "execution_count": 30,
   "outputs": []
  },
  {
   "cell_type": "code",
   "source": [
    "data7 = df['문화관광예산비율']"
   ],
   "metadata": {
    "id": "Mhk0H3Xqss9r",
    "pycharm": {
     "name": "#%%\n"
    }
   },
   "execution_count": 31,
   "outputs": []
  },
  {
   "cell_type": "code",
   "source": [
    "data7.describe()"
   ],
   "metadata": {
    "colab": {
     "base_uri": "https://localhost:8080/"
    },
    "id": "L6byWYnvsu2u",
    "outputId": "30cb6eb2-b9c4-4141-b6eb-c96d9a09f96f",
    "pycharm": {
     "name": "#%%\n"
    }
   },
   "execution_count": 32,
   "outputs": [
    {
     "data": {
      "text/plain": "count    1701.000000\nmean        0.241052\nstd         0.381225\nmin         0.000000\n25%         0.040000\n50%         0.120000\n75%         0.290000\nmax         3.740000\nName: 문화관광예산비율, dtype: float64"
     },
     "execution_count": 32,
     "metadata": {},
     "output_type": "execute_result"
    }
   ]
  },
  {
   "cell_type": "code",
   "source": [
    "data7.isnull().sum()"
   ],
   "metadata": {
    "colab": {
     "base_uri": "https://localhost:8080/"
    },
    "id": "bDPOBF8Gszxa",
    "outputId": "37b5d232-cf11-448e-f4cc-3a3da8b5164a",
    "pycharm": {
     "name": "#%%\n"
    }
   },
   "execution_count": 33,
   "outputs": [
    {
     "data": {
      "text/plain": "3"
     },
     "execution_count": 33,
     "metadata": {},
     "output_type": "execute_result"
    }
   ]
  },
  {
   "cell_type": "code",
   "source": [
    "plt.hist(data7, label = 'bins = (0, 3, 0.25)')\n",
    "plt.legend\n",
    "plt.show()"
   ],
   "metadata": {
    "colab": {
     "base_uri": "https://localhost:8080/",
     "height": 265
    },
    "id": "_DsiwHmLs8cn",
    "outputId": "a81b798f-97f7-4afc-adab-73e2ac3ad750",
    "pycharm": {
     "name": "#%%\n"
    }
   },
   "execution_count": 34,
   "outputs": [
    {
     "data": {
      "text/plain": "<Figure size 432x288 with 1 Axes>",
      "image/png": "[encoded data removed]"
     },
     "metadata": {},
     "output_type": "display_data"
    }
   ]
  },
  {
   "cell_type": "code",
   "source": [
    "df['문화관광예산비율'] = df['문화관광예산비율'].fillna(df['문화관광예산비율'].median())"
   ],
   "metadata": {
    "id": "pnukkSsGtCYq",
    "pycharm": {
     "name": "#%%\n"
    }
   },
   "execution_count": 35,
   "outputs": []
  },
  {
   "cell_type": "code",
   "source": [
    "data8 = df['1인당문화관광예산금액']"
   ],
   "metadata": {
    "id": "Kgi538zTtfmd",
    "pycharm": {
     "name": "#%%\n"
    }
   },
   "execution_count": 36,
   "outputs": []
  },
  {
   "cell_type": "code",
   "source": [
    "plt.hist(data8, bins = 1000)\n",
    "plt.legend\n",
    "plt.show()"
   ],
   "metadata": {
    "colab": {
     "base_uri": "https://localhost:8080/",
     "height": 267
    },
    "id": "68SUe-xZtjEo",
    "outputId": "3605c963-8a00-4a2e-eef5-204f7040bc5f",
    "pycharm": {
     "name": "#%%\n"
    }
   },
   "execution_count": 37,
   "outputs": [
    {
     "data": {
      "text/plain": "<Figure size 432x288 with 1 Axes>",
      "image/png": "[encoded data removed]"
     },
     "metadata": {},
     "output_type": "display_data"
    }
   ]
  },
  {
   "cell_type": "code",
   "source": [
    "data8.describe"
   ],
   "metadata": {
    "colab": {
     "base_uri": "https://localhost:8080/"
    },
    "id": "zvgCHiOdtmlw",
    "outputId": "8e359497-3c79-49e2-f1a4-70d19af7418c",
    "pycharm": {
     "name": "#%%\n"
    }
   },
   "execution_count": 38,
   "outputs": [
    {
     "data": {
      "text/plain": "<bound method NDFrame.describe of 0        5714.0\n1        2521.0\n2        1106.0\n3          94.0\n4         154.0\n         ...   \n1699    86991.0\n1700    17258.0\n1701     4747.0\n1702    49328.0\n1703    28855.0\nName: 1인당문화관광예산금액, Length: 1704, dtype: float64>"
     },
     "execution_count": 38,
     "metadata": {},
     "output_type": "execute_result"
    }
   ]
  },
  {
   "cell_type": "code",
   "source": [
    "df['1인당문화관광예산금액'] = df['1인당문화관광예산금액'].fillna(df['1인당문화관광예산금액'].median())"
   ],
   "metadata": {
    "id": "LUGgWLqquNnq",
    "pycharm": {
     "name": "#%%\n"
    }
   },
   "execution_count": 39,
   "outputs": []
  },
  {
   "cell_type": "markdown",
   "source": [
    "### 결측치 다 채워진거 확인하기"
   ],
   "metadata": {
    "id": "J9lBAS55uUDv",
    "pycharm": {
     "name": "#%% md\n"
    }
   }
  },
  {
   "cell_type": "code",
   "source": [
    "df.isnull().sum()"
   ],
   "metadata": {
    "colab": {
     "base_uri": "https://localhost:8080/"
    },
    "id": "FlXrtYY7tbja",
    "outputId": "4f5658b7-dd58-4deb-ac06-148fd3adb04f",
    "pycharm": {
     "name": "#%%\n"
    }
   },
   "execution_count": 40,
   "outputs": [
    {
     "data": {
      "text/plain": "컬럼한글명\n일련번호            0\n회계년도            0\n행정기관코드          0\n행정기관명           0\n총세출예산금액         0\n이전년도세출예산금액      0\n세출예산증감율         0\n문화관광예산금액        0\n이전년도문화관광예산금액    0\n문화관광예산증감율       0\n문화관광예산비율        0\n총인구수            0\n1인당문화관광예산금액     0\ndtype: int64"
     },
     "execution_count": 40,
     "metadata": {},
     "output_type": "execute_result"
    }
   ]
  }
 ]
}